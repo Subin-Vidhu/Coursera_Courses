{
 "cells": [
  {
   "cell_type": "markdown",
   "metadata": {
    "colab_type": "text",
    "id": "c05P9g5WjizZ"
   },
   "source": [
    "# Classify Structured Data"
   ]
  },
  {
   "cell_type": "markdown",
   "metadata": {
    "colab_type": "text",
    "id": "VxyBFc_kKazA"
   },
   "source": [
    "## Import TensorFlow and Other Libraries"
   ]
  },
  {
   "cell_type": "code",
   "execution_count": 1,
   "metadata": {
    "colab": {},
    "colab_type": "code",
    "id": "9dEreb4QKizj"
   },
   "outputs": [],
   "source": [
    "import pandas as pd\n",
    "import tensorflow as tf\n",
    "\n",
    "from tensorflow.keras import layers\n",
    "from tensorflow import feature_column\n",
    "\n",
    "from os import getcwd\n",
    "from sklearn.model_selection import train_test_split"
   ]
  },
  {
   "cell_type": "markdown",
   "metadata": {
    "colab_type": "text",
    "id": "KCEhSZcULZ9n"
   },
   "source": [
    "## Use Pandas to Create a Dataframe\n",
    "\n",
    "[Pandas](https://pandas.pydata.org/) is a Python library with many helpful utilities for loading and working with structured data. We will use Pandas to download the dataset and load it into a dataframe."
   ]
  },
  {
   "cell_type": "code",
   "execution_count": 2,
   "metadata": {
    "colab": {},
    "colab_type": "code",
    "id": "REZ57BXCLdfG"
   },
   "outputs": [
    {
     "data": {
      "text/html": [
       "<div>\n",
       "<style scoped>\n",
       "    .dataframe tbody tr th:only-of-type {\n",
       "        vertical-align: middle;\n",
       "    }\n",
       "\n",
       "    .dataframe tbody tr th {\n",
       "        vertical-align: top;\n",
       "    }\n",
       "\n",
       "    .dataframe thead th {\n",
       "        text-align: right;\n",
       "    }\n",
       "</style>\n",
       "<table border=\"1\" class=\"dataframe\">\n",
       "  <thead>\n",
       "    <tr style=\"text-align: right;\">\n",
       "      <th></th>\n",
       "      <th>age</th>\n",
       "      <th>sex</th>\n",
       "      <th>cp</th>\n",
       "      <th>trestbps</th>\n",
       "      <th>chol</th>\n",
       "      <th>fbs</th>\n",
       "      <th>restecg</th>\n",
       "      <th>thalach</th>\n",
       "      <th>exang</th>\n",
       "      <th>oldpeak</th>\n",
       "      <th>slope</th>\n",
       "      <th>ca</th>\n",
       "      <th>thal</th>\n",
       "      <th>target</th>\n",
       "    </tr>\n",
       "  </thead>\n",
       "  <tbody>\n",
       "    <tr>\n",
       "      <th>0</th>\n",
       "      <td>63</td>\n",
       "      <td>1</td>\n",
       "      <td>1</td>\n",
       "      <td>145</td>\n",
       "      <td>233</td>\n",
       "      <td>1</td>\n",
       "      <td>2</td>\n",
       "      <td>150</td>\n",
       "      <td>0</td>\n",
       "      <td>2.3</td>\n",
       "      <td>3</td>\n",
       "      <td>0</td>\n",
       "      <td>fixed</td>\n",
       "      <td>0</td>\n",
       "    </tr>\n",
       "    <tr>\n",
       "      <th>1</th>\n",
       "      <td>67</td>\n",
       "      <td>1</td>\n",
       "      <td>4</td>\n",
       "      <td>160</td>\n",
       "      <td>286</td>\n",
       "      <td>0</td>\n",
       "      <td>2</td>\n",
       "      <td>108</td>\n",
       "      <td>1</td>\n",
       "      <td>1.5</td>\n",
       "      <td>2</td>\n",
       "      <td>3</td>\n",
       "      <td>normal</td>\n",
       "      <td>1</td>\n",
       "    </tr>\n",
       "    <tr>\n",
       "      <th>2</th>\n",
       "      <td>67</td>\n",
       "      <td>1</td>\n",
       "      <td>4</td>\n",
       "      <td>120</td>\n",
       "      <td>229</td>\n",
       "      <td>0</td>\n",
       "      <td>2</td>\n",
       "      <td>129</td>\n",
       "      <td>1</td>\n",
       "      <td>2.6</td>\n",
       "      <td>2</td>\n",
       "      <td>2</td>\n",
       "      <td>reversible</td>\n",
       "      <td>0</td>\n",
       "    </tr>\n",
       "    <tr>\n",
       "      <th>3</th>\n",
       "      <td>37</td>\n",
       "      <td>1</td>\n",
       "      <td>3</td>\n",
       "      <td>130</td>\n",
       "      <td>250</td>\n",
       "      <td>0</td>\n",
       "      <td>0</td>\n",
       "      <td>187</td>\n",
       "      <td>0</td>\n",
       "      <td>3.5</td>\n",
       "      <td>3</td>\n",
       "      <td>0</td>\n",
       "      <td>normal</td>\n",
       "      <td>0</td>\n",
       "    </tr>\n",
       "    <tr>\n",
       "      <th>4</th>\n",
       "      <td>41</td>\n",
       "      <td>0</td>\n",
       "      <td>2</td>\n",
       "      <td>130</td>\n",
       "      <td>204</td>\n",
       "      <td>0</td>\n",
       "      <td>2</td>\n",
       "      <td>172</td>\n",
       "      <td>0</td>\n",
       "      <td>1.4</td>\n",
       "      <td>1</td>\n",
       "      <td>0</td>\n",
       "      <td>normal</td>\n",
       "      <td>0</td>\n",
       "    </tr>\n",
       "  </tbody>\n",
       "</table>\n",
       "</div>"
      ],
      "text/plain": [
       "   age  sex  cp  trestbps  chol  fbs  restecg  thalach  exang  oldpeak  slope  \\\n",
       "0   63    1   1       145   233    1        2      150      0      2.3      3   \n",
       "1   67    1   4       160   286    0        2      108      1      1.5      2   \n",
       "2   67    1   4       120   229    0        2      129      1      2.6      2   \n",
       "3   37    1   3       130   250    0        0      187      0      3.5      3   \n",
       "4   41    0   2       130   204    0        2      172      0      1.4      1   \n",
       "\n",
       "   ca        thal  target  \n",
       "0   0       fixed       0  \n",
       "1   3      normal       1  \n",
       "2   2  reversible       0  \n",
       "3   0      normal       0  \n",
       "4   0      normal       0  "
      ]
     },
     "execution_count": 2,
     "metadata": {},
     "output_type": "execute_result"
    }
   ],
   "source": [
    "filePath = f\"{getcwd()}/data/heart.csv\"\n",
    "dataframe = pd.read_csv(filePath)\n",
    "dataframe.head()"
   ]
  },
  {
   "cell_type": "markdown",
   "metadata": {
    "colab_type": "text",
    "id": "u0zhLtQqMPem"
   },
   "source": [
    "## Split the Dataframe Into Train, Validation, and Test Sets\n",
    "\n",
    "The dataset we downloaded was a single CSV file. We will split this into train, validation, and test sets."
   ]
  },
  {
   "cell_type": "code",
   "execution_count": 3,
   "metadata": {
    "colab": {},
    "colab_type": "code",
    "id": "YEOpw7LhMYsI"
   },
   "outputs": [
    {
     "name": "stdout",
     "output_type": "stream",
     "text": [
      "193 train examples\n",
      "49 validation examples\n",
      "61 test examples\n"
     ]
    }
   ],
   "source": [
    "train, test = train_test_split(dataframe, test_size=0.2)\n",
    "train, val = train_test_split(train, test_size=0.2)\n",
    "print(len(train), 'train examples')\n",
    "print(len(val), 'validation examples')\n",
    "print(len(test), 'test examples')"
   ]
  },
  {
   "cell_type": "markdown",
   "metadata": {
    "colab_type": "text",
    "id": "84ef46LXMfvu"
   },
   "source": [
    "## Create an Input Pipeline Using `tf.data`\n",
    "\n",
    "Next, we will wrap the dataframes with [tf.data](https://www.tensorflow.org/guide/datasets). This will enable us  to use feature columns as a bridge to map from the columns in the Pandas dataframe to features used to train the model. If we were working with a very large CSV file (so large that it does not fit into memory), we would use tf.data to read it from disk directly."
   ]
  },
  {
   "cell_type": "code",
   "execution_count": 4,
   "metadata": {},
   "outputs": [],
   "source": [
    "# EXERCISE: A utility method to create a tf.data dataset from a Pandas Dataframe.\n",
    "\n",
    "def df_to_dataset(dataframe, shuffle=True, batch_size=32):\n",
    "    dataframe = dataframe.copy()\n",
    "    \n",
    "    # Use Pandas dataframe's pop method to get the list of targets.\n",
    "    labels = dataframe[\"target\"].values\n",
    "    dataframe.drop(\"target\", axis = 1, inplace = True)\n",
    "    \n",
    "    # Create a tf.data.Dataset from the dataframe and labels.\n",
    "    ds = tf.data.Dataset.from_tensor_slices((dict(dataframe),labels))\n",
    "    \n",
    "    if shuffle:\n",
    "        # Shuffle dataset.\n",
    "        ds = ds.shuffle(3)\n",
    "        \n",
    "    # Batch dataset with specified batch_size parameter.\n",
    "    ds = ds.batch(batch_size)\n",
    "    \n",
    "    return ds"
   ]
  },
  {
   "cell_type": "code",
   "execution_count": 5,
   "metadata": {
    "colab": {},
    "colab_type": "code",
    "id": "CXbbXkJvMy34"
   },
   "outputs": [],
   "source": [
    "batch_size = 5 # A small batch sized is used for demonstration purposes\n",
    "train_ds = df_to_dataset(train, batch_size=batch_size)\n",
    "val_ds = df_to_dataset(val, shuffle=False, batch_size=batch_size)\n",
    "test_ds = df_to_dataset(test, shuffle=False, batch_size=batch_size)"
   ]
  },
  {
   "cell_type": "markdown",
   "metadata": {
    "colab_type": "text",
    "id": "qRLGSMDzM-dl"
   },
   "source": [
    "## Understand the Input Pipeline\n",
    "\n",
    "Now that we have created the input pipeline, let's call it to see the format of the data it returns. We have used a small batch size to keep the output readable."
   ]
  },
  {
   "cell_type": "code",
   "execution_count": 6,
   "metadata": {
    "colab": {},
    "colab_type": "code",
    "id": "CSBo3dUVNFc9"
   },
   "outputs": [
    {
     "name": "stdout",
     "output_type": "stream",
     "text": [
      "Every feature: ['age', 'sex', 'cp', 'trestbps', 'chol', 'fbs', 'restecg', 'thalach', 'exang', 'oldpeak', 'slope', 'ca', 'thal']\n",
      "A batch of ages: tf.Tensor([39 57 56 52 44], shape=(5,), dtype=int64)\n",
      "A batch of targets: tf.Tensor([1 0 0 0 1], shape=(5,), dtype=int64)\n"
     ]
    }
   ],
   "source": [
    "for feature_batch, label_batch in train_ds.take(1):\n",
    "    print('Every feature:', list(feature_batch.keys()))\n",
    "    print('A batch of ages:', feature_batch['age'])\n",
    "    print('A batch of targets:', label_batch )"
   ]
  },
  {
   "cell_type": "markdown",
   "metadata": {
    "colab_type": "text",
    "id": "OT5N6Se-NQsC"
   },
   "source": [
    "We can see that the dataset returns a dictionary of column names (from the dataframe) that map to column values from rows in the dataframe."
   ]
  },
  {
   "cell_type": "markdown",
   "metadata": {
    "colab_type": "text",
    "id": "ttIvgLRaNoOQ"
   },
   "source": [
    "## Create Several Types of Feature Columns\n",
    "\n",
    "TensorFlow provides many types of feature columns. In this section, we will create several types of feature columns, and demonstrate how they transform a column from the dataframe."
   ]
  },
  {
   "cell_type": "code",
   "execution_count": 7,
   "metadata": {
    "colab": {},
    "colab_type": "code",
    "id": "mxwiHFHuNhmf"
   },
   "outputs": [],
   "source": [
    "# Try to demonstrate several types of feature columns by getting an example.\n",
    "example_batch = next(iter(train_ds))[0]"
   ]
  },
  {
   "cell_type": "code",
   "execution_count": 8,
   "metadata": {
    "colab": {},
    "colab_type": "code",
    "id": "0wfLB8Q3N3UH"
   },
   "outputs": [],
   "source": [
    "# A utility method to create a feature column and to transform a batch of data.\n",
    "def demo(feature_column):\n",
    "    feature_layer = layers.DenseFeatures(feature_column, dtype='float64')\n",
    "    print(feature_layer(example_batch).numpy())"
   ]
  },
  {
   "cell_type": "markdown",
   "metadata": {
    "colab_type": "text",
    "id": "Q7OEKe82N-Qb"
   },
   "source": [
    "### Numeric Columns\n",
    "\n",
    "The output of a feature column becomes the input to the model (using the demo function defined above, we will be able to see exactly how each column from the dataframe is transformed). A [numeric column](https://www.tensorflow.org/api_docs/python/tf/feature_column/numeric_column) is the simplest type of column. It is used to represent real valued features. "
   ]
  },
  {
   "cell_type": "code",
   "execution_count": 9,
   "metadata": {
    "colab": {},
    "colab_type": "code",
    "id": "QZTZ0HnHOCxC"
   },
   "outputs": [
    {
     "name": "stdout",
     "output_type": "stream",
     "text": [
      "[[57.]\n",
      " [39.]\n",
      " [54.]\n",
      " [56.]\n",
      " [52.]]\n"
     ]
    }
   ],
   "source": [
    "# EXERCISE: Create a numeric feature column out of 'age' and demo it.\n",
    "age = tf.feature_column.numeric_column(\"age\")\n",
    "\n",
    "demo(age)"
   ]
  },
  {
   "cell_type": "markdown",
   "metadata": {
    "colab_type": "text",
    "id": "7a6ddSyzOKpq"
   },
   "source": [
    "In the heart disease dataset, most columns from the dataframe are numeric."
   ]
  },
  {
   "cell_type": "markdown",
   "metadata": {
    "colab_type": "text",
    "id": "IcSxUoYgOlA1"
   },
   "source": [
    "### Bucketized Columns\n",
    "\n",
    "Often, you don't want to feed a number directly into the model, but instead split its value into different categories based on numerical ranges. Consider raw data that represents a person's age. Instead of representing age as a numeric column, we could split the age into several buckets using a [bucketized column](https://www.tensorflow.org/api_docs/python/tf/feature_column/bucketized_column). "
   ]
  },
  {
   "cell_type": "code",
   "execution_count": 10,
   "metadata": {
    "colab": {},
    "colab_type": "code",
    "id": "wJ4Wt3SAOpTQ"
   },
   "outputs": [
    {
     "name": "stdout",
     "output_type": "stream",
     "text": [
      "[[0. 0. 0. 0. 0. 0. 0. 0. 1. 0. 0.]\n",
      " [0. 0. 0. 0. 1. 0. 0. 0. 0. 0. 0.]\n",
      " [0. 0. 0. 0. 0. 0. 0. 1. 0. 0. 0.]\n",
      " [0. 0. 0. 0. 0. 0. 0. 0. 1. 0. 0.]\n",
      " [0. 0. 0. 0. 0. 0. 0. 1. 0. 0. 0.]]\n"
     ]
    }
   ],
   "source": [
    "# EXERCISE: Create a bucketized feature column out of 'age' with\n",
    "# the following boundaries and demo it.\n",
    "boundaries = [18, 25, 30, 35, 40, 45, 50, 55, 60, 65]\n",
    "\n",
    "age_buckets = tf.feature_column.bucketized_column(age, boundaries = boundaries)\n",
    "\n",
    "demo(age_buckets)"
   ]
  },
  {
   "cell_type": "markdown",
   "metadata": {
    "colab_type": "text",
    "id": "-me1NKJ4BIEB"
   },
   "source": [
    "Notice the one-hot values above describe which age range each row matches."
   ]
  },
  {
   "cell_type": "markdown",
   "metadata": {
    "colab_type": "text",
    "id": "r1tArzewPb-b"
   },
   "source": [
    "### Categorical Columns\n",
    "\n",
    "In this dataset, thal is represented as a string (e.g. 'fixed', 'normal', or 'reversible'). We cannot feed strings directly to a model. Instead, we must first map them to numeric values. The categorical vocabulary columns provide a way to represent strings as a one-hot vector (much like you have seen above with age buckets). \n",
    "\n",
    "**Note**: You will probably see some warning messages when running some of the code cell below. These warnings have to do with software updates and should not cause any errors or prevent your code from running."
   ]
  },
  {
   "cell_type": "code",
   "execution_count": 11,
   "metadata": {
    "colab": {},
    "colab_type": "code",
    "id": "DJ6QnSHkPtOC"
   },
   "outputs": [
    {
     "name": "stdout",
     "output_type": "stream",
     "text": [
      "[[0. 0. 1.]\n",
      " [0. 0. 1.]\n",
      " [0. 1. 0.]\n",
      " [0. 1. 0.]\n",
      " [1. 0. 0.]]\n"
     ]
    }
   ],
   "source": [
    "# EXERCISE: Create a categorical vocabulary column out of the\n",
    "# above mentioned categories with the key specified as 'thal'.\n",
    "thal = tf.feature_column.categorical_column_with_vocabulary_list(\n",
    "      'thal', ['fixed', 'normal', 'reversible'])\n",
    "\n",
    "# EXERCISE: Create an indicator column out of the created categorical column.\n",
    "thal_one_hot = tf.feature_column.indicator_column(thal)\n",
    "\n",
    "demo(thal_one_hot)"
   ]
  },
  {
   "cell_type": "markdown",
   "metadata": {
    "colab_type": "text",
    "id": "zQT4zecNBtji"
   },
   "source": [
    "The vocabulary can be passed as a list using [categorical_column_with_vocabulary_list](https://www.tensorflow.org/api_docs/python/tf/feature_column/categorical_column_with_vocabulary_list), or loaded from a file using [categorical_column_with_vocabulary_file](https://www.tensorflow.org/api_docs/python/tf/feature_column/categorical_column_with_vocabulary_file)."
   ]
  },
  {
   "cell_type": "markdown",
   "metadata": {
    "colab_type": "text",
    "id": "LEFPjUr6QmwS"
   },
   "source": [
    "### Embedding Columns\n",
    "\n",
    "Suppose instead of having just a few possible strings, we have thousands (or more) values per category. For a number of reasons, as the number of categories grow large, it becomes infeasible to train a neural network using one-hot encodings. We can use an embedding column to overcome this limitation. Instead of representing the data as a one-hot vector of many dimensions, an [embedding column](https://www.tensorflow.org/api_docs/python/tf/feature_column/embedding_column) represents that data as a lower-dimensional, dense vector in which each cell can contain any number, not just 0 or 1. You can tune the size of the embedding with the `dimension` parameter."
   ]
  },
  {
   "cell_type": "code",
   "execution_count": 12,
   "metadata": {
    "colab": {},
    "colab_type": "code",
    "id": "hSlohmr2Q_UU"
   },
   "outputs": [
    {
     "name": "stdout",
     "output_type": "stream",
     "text": [
      "[[ 0.2501505   0.15364951  0.264687   -0.33718184  0.46129265  0.23836483\n",
      "   0.4343633   0.12030855]\n",
      " [ 0.2501505   0.15364951  0.264687   -0.33718184  0.46129265  0.23836483\n",
      "   0.4343633   0.12030855]\n",
      " [ 0.07460511  0.3053071  -0.27226606  0.12486689 -0.16520233  0.0557805\n",
      "   0.24236518 -0.38613033]\n",
      " [ 0.07460511  0.3053071  -0.27226606  0.12486689 -0.16520233  0.0557805\n",
      "   0.24236518 -0.38613033]\n",
      " [ 0.18021308  0.3028763  -0.01157649  0.5094301  -0.35755932 -0.13415755\n",
      "   0.12270453 -0.37128705]]\n"
     ]
    }
   ],
   "source": [
    "# EXERCISE: Create an embedding column out of the categorical\n",
    "# vocabulary you just created (thal). Set the size of the \n",
    "# embedding to 8, by using the dimension parameter.\n",
    "\n",
    "thal_embedding = tf.feature_column.embedding_column(thal, dimension=8)\n",
    "\n",
    "\n",
    "demo(thal_embedding)"
   ]
  },
  {
   "cell_type": "markdown",
   "metadata": {
    "colab_type": "text",
    "id": "urFCAvTVRMpB"
   },
   "source": [
    "### Hashed Feature Columns\n",
    "\n",
    "Another way to represent a categorical column with a large number of values is to use a [categorical_column_with_hash_bucket](https://www.tensorflow.org/api_docs/python/tf/feature_column/categorical_column_with_hash_bucket). This feature column calculates a hash value of the input, then selects one of the `hash_bucket_size` buckets to encode a string. When using this column, you do not need to provide the vocabulary, and you can choose to make the number of hash buckets significantly smaller than the number of actual categories to save space."
   ]
  },
  {
   "cell_type": "code",
   "execution_count": 13,
   "metadata": {
    "colab": {},
    "colab_type": "code",
    "id": "YHU_Aj2nRRDC"
   },
   "outputs": [
    {
     "name": "stdout",
     "output_type": "stream",
     "text": [
      "[[0. 0. 0. ... 0. 0. 0.]\n",
      " [0. 0. 0. ... 0. 0. 0.]\n",
      " [0. 0. 0. ... 0. 0. 0.]\n",
      " [0. 0. 0. ... 0. 0. 0.]\n",
      " [0. 0. 0. ... 0. 0. 0.]]\n"
     ]
    }
   ],
   "source": [
    "# EXERCISE: Create a hashed feature column with 'thal' as the key and \n",
    "# 1000 hash buckets.\n",
    "thal_hashed = tf.feature_column.categorical_column_with_hash_bucket(\n",
    "      'thal', hash_bucket_size=1000)\n",
    "\n",
    "demo(feature_column.indicator_column(thal_hashed))"
   ]
  },
  {
   "cell_type": "markdown",
   "metadata": {
    "colab_type": "text",
    "id": "fB94M27DRXtZ"
   },
   "source": [
    "### Crossed Feature Columns\n",
    "Combining features into a single feature, better known as [feature crosses](https://developers.google.com/machine-learning/glossary/#feature_cross), enables a model to learn separate weights for each combination of features. Here, we will create a new feature that is the cross of age and thal. Note that `crossed_column` does not build the full table of all possible combinations (which could be very large). Instead, it is backed by a `hashed_column`, so you can choose how large the table is."
   ]
  },
  {
   "cell_type": "code",
   "execution_count": 14,
   "metadata": {
    "colab": {},
    "colab_type": "code",
    "id": "oaPVERd9Rep6"
   },
   "outputs": [
    {
     "name": "stdout",
     "output_type": "stream",
     "text": [
      "[[0. 0. 0. ... 0. 0. 0.]\n",
      " [0. 0. 0. ... 0. 0. 0.]\n",
      " [0. 0. 0. ... 0. 0. 0.]\n",
      " [0. 0. 0. ... 0. 0. 0.]\n",
      " [0. 0. 0. ... 0. 0. 0.]]\n"
     ]
    }
   ],
   "source": [
    "# EXERCISE: Create a crossed column using the bucketized column (age_buckets),\n",
    "# the categorical vocabulary column (thal) previously created, and 1000 hash buckets.\n",
    "crossed_feature = tf.feature_column.crossed_column([age_buckets, thal], hash_bucket_size=1000)\n",
    "\n",
    "demo(feature_column.indicator_column(crossed_feature))"
   ]
  },
  {
   "cell_type": "markdown",
   "metadata": {
    "colab_type": "text",
    "id": "ypkI9zx6Rj1q"
   },
   "source": [
    "## Choose Which Columns to Use\n",
    "\n",
    "We have seen how to use several types of feature columns. Now we will use them to train a model. The goal of this exercise is to show you the complete code needed to work with feature columns. We have selected a few columns to train our model below arbitrarily.\n",
    "\n",
    "If your aim is to build an accurate model, try a larger dataset of your own, and think carefully about which features are the most meaningful to include, and how they should be represented."
   ]
  },
  {
   "cell_type": "code",
   "execution_count": 15,
   "metadata": {
    "colab": {},
    "colab_type": "code",
    "id": "Eu8bJWmCScfC"
   },
   "outputs": [
    {
     "data": {
      "text/plain": [
       "age           int64\n",
       "sex           int64\n",
       "cp            int64\n",
       "trestbps      int64\n",
       "chol          int64\n",
       "fbs           int64\n",
       "restecg       int64\n",
       "thalach       int64\n",
       "exang         int64\n",
       "oldpeak     float64\n",
       "slope         int64\n",
       "ca            int64\n",
       "thal         object\n",
       "target        int64\n",
       "dtype: object"
      ]
     },
     "execution_count": 15,
     "metadata": {},
     "output_type": "execute_result"
    }
   ],
   "source": [
    "dataframe.dtypes"
   ]
  },
  {
   "cell_type": "markdown",
   "metadata": {
    "colab_type": "text",
    "id": "2pV4tSI3SkuX"
   },
   "source": [
    "You can use the above list of column datatypes to map the appropriate feature column to every column in the dataframe."
   ]
  },
  {
   "cell_type": "code",
   "execution_count": 16,
   "metadata": {
    "colab": {},
    "colab_type": "code",
    "id": "4PlLY7fORuzA"
   },
   "outputs": [],
   "source": [
    "# EXERCISE: Fill in the missing code below\n",
    "feature_columns = []\n",
    "\n",
    "# Numeric Cols.\n",
    "# Create a list of numeric columns. Use the following list of columns\n",
    "# that have a numeric datatype: ['age', 'trestbps', 'chol', 'thalach', 'oldpeak', 'slope', 'ca'].\n",
    "numeric_columns = ['age', 'trestbps', 'chol', 'thalach', 'oldpeak', 'slope', 'ca']\n",
    "\n",
    "for header in numeric_columns:\n",
    "    # Create a numeric feature column  out of the header.\n",
    "    numeric_feature_column = tf.feature_column.numeric_column(header)\n",
    "    \n",
    "    feature_columns.append(numeric_feature_column)\n",
    "\n",
    "# Bucketized Cols.\n",
    "# Create a bucketized feature column out of the age column (numeric column)\n",
    "# that you've already created. Use the following boundaries:\n",
    "# [18, 25, 30, 35, 40, 45, 50, 55, 60, 65]\n",
    "age_buckets = tf.feature_column.bucketized_column(age, boundaries = [18, 25, 30, 35, 40, 45, 50, 55, 60, 65] )\n",
    "\n",
    "feature_columns.append(age_buckets)\n",
    "\n",
    "# Indicator Cols.\n",
    "# Create a categorical vocabulary column out of the categories\n",
    "# ['fixed', 'normal', 'reversible'] with the key specified as 'thal'.\n",
    "thal = feature_column.categorical_column_with_vocabulary_list(\n",
    "      'thal', ['fixed', 'normal', 'reversible'])\n",
    "\n",
    "# Create an indicator column out of the created thal categorical column\n",
    "thal_one_hot = feature_column.indicator_column(thal)\n",
    "\n",
    "feature_columns.append(thal_one_hot)\n",
    "\n",
    "# Embedding Cols.\n",
    "# Create an embedding column out of the categorical vocabulary you\n",
    "# just created (thal). Set the size of the embedding to 8, by using\n",
    "# the dimension parameter.\n",
    "thal_embedding = tf.feature_column.embedding_column(thal, dimension=8)\n",
    "\n",
    "feature_columns.append(thal_embedding)\n",
    "\n",
    "# Crossed Cols.\n",
    "# Create a crossed column using the bucketized column (age_buckets),\n",
    "# the categorical vocabulary column (thal) previously created, and 1000 hash buckets.\n",
    "crossed_feature = feature_column.crossed_column([age_buckets, thal], hash_bucket_size=1000)\n",
    "\n",
    "# Create an indicator column out of the crossed column created above to one-hot encode it.\n",
    "crossed_feature = feature_column.indicator_column(crossed_feature)\n",
    "\n",
    "feature_columns.append(crossed_feature)"
   ]
  },
  {
   "cell_type": "markdown",
   "metadata": {
    "colab_type": "text",
    "id": "M-nDp8krS_ts"
   },
   "source": [
    "### Create a Feature Layer\n",
    "\n",
    "Now that we have defined our feature columns, we will use a [DenseFeatures](https://www.tensorflow.org/versions/r2.0/api_docs/python/tf/keras/layers/DenseFeatures) layer to input them to our Keras model."
   ]
  },
  {
   "cell_type": "code",
   "execution_count": 17,
   "metadata": {
    "colab": {},
    "colab_type": "code",
    "id": "6o-El1R2TGQP"
   },
   "outputs": [],
   "source": [
    "# EXERCISE: Create a Keras DenseFeatures layer and pass the feature_columns you just created.\n",
    "feature_layer = tf.keras.layers.DenseFeatures(feature_columns)"
   ]
  },
  {
   "cell_type": "markdown",
   "metadata": {
    "colab_type": "text",
    "id": "8cf6vKfgTH0U"
   },
   "source": [
    "Earlier, we used a small batch size to demonstrate how feature columns worked. We create a new input pipeline with a larger batch size."
   ]
  },
  {
   "cell_type": "code",
   "execution_count": 18,
   "metadata": {
    "colab": {},
    "colab_type": "code",
    "id": "gcemszoGSse_"
   },
   "outputs": [],
   "source": [
    "batch_size = 32\n",
    "train_ds = df_to_dataset(train, batch_size=batch_size)\n",
    "val_ds = df_to_dataset(val, shuffle=False, batch_size=batch_size)\n",
    "test_ds = df_to_dataset(test, shuffle=False, batch_size=batch_size)"
   ]
  },
  {
   "cell_type": "markdown",
   "metadata": {
    "colab_type": "text",
    "id": "bBx4Xu0eTXWq"
   },
   "source": [
    "## Create, Compile, and Train the Model"
   ]
  },
  {
   "cell_type": "code",
   "execution_count": 19,
   "metadata": {
    "colab": {},
    "colab_type": "code",
    "id": "_YJPPb3xTPeZ"
   },
   "outputs": [
    {
     "name": "stdout",
     "output_type": "stream",
     "text": [
      "Epoch 1/100\n",
      "WARNING:tensorflow:Layers in a Sequential model should only have a single input tensor. Received: inputs={'age': <tf.Tensor 'IteratorGetNext:0' shape=(None,) dtype=int64>, 'sex': <tf.Tensor 'IteratorGetNext:8' shape=(None,) dtype=int64>, 'cp': <tf.Tensor 'IteratorGetNext:3' shape=(None,) dtype=int64>, 'trestbps': <tf.Tensor 'IteratorGetNext:12' shape=(None,) dtype=int64>, 'chol': <tf.Tensor 'IteratorGetNext:2' shape=(None,) dtype=int64>, 'fbs': <tf.Tensor 'IteratorGetNext:5' shape=(None,) dtype=int64>, 'restecg': <tf.Tensor 'IteratorGetNext:7' shape=(None,) dtype=int64>, 'thalach': <tf.Tensor 'IteratorGetNext:11' shape=(None,) dtype=int64>, 'exang': <tf.Tensor 'IteratorGetNext:4' shape=(None,) dtype=int64>, 'oldpeak': <tf.Tensor 'IteratorGetNext:6' shape=(None,) dtype=float64>, 'slope': <tf.Tensor 'IteratorGetNext:9' shape=(None,) dtype=int64>, 'ca': <tf.Tensor 'IteratorGetNext:1' shape=(None,) dtype=int64>, 'thal': <tf.Tensor 'IteratorGetNext:10' shape=(None,) dtype=string>}. Consider rewriting this model with the Functional API.\n",
      "WARNING:tensorflow:Layers in a Sequential model should only have a single input tensor. Received: inputs={'age': <tf.Tensor 'IteratorGetNext:0' shape=(None,) dtype=int64>, 'sex': <tf.Tensor 'IteratorGetNext:8' shape=(None,) dtype=int64>, 'cp': <tf.Tensor 'IteratorGetNext:3' shape=(None,) dtype=int64>, 'trestbps': <tf.Tensor 'IteratorGetNext:12' shape=(None,) dtype=int64>, 'chol': <tf.Tensor 'IteratorGetNext:2' shape=(None,) dtype=int64>, 'fbs': <tf.Tensor 'IteratorGetNext:5' shape=(None,) dtype=int64>, 'restecg': <tf.Tensor 'IteratorGetNext:7' shape=(None,) dtype=int64>, 'thalach': <tf.Tensor 'IteratorGetNext:11' shape=(None,) dtype=int64>, 'exang': <tf.Tensor 'IteratorGetNext:4' shape=(None,) dtype=int64>, 'oldpeak': <tf.Tensor 'IteratorGetNext:6' shape=(None,) dtype=float64>, 'slope': <tf.Tensor 'IteratorGetNext:9' shape=(None,) dtype=int64>, 'ca': <tf.Tensor 'IteratorGetNext:1' shape=(None,) dtype=int64>, 'thal': <tf.Tensor 'IteratorGetNext:10' shape=(None,) dtype=string>}. Consider rewriting this model with the Functional API.\n",
      "7/7 [==============================] - ETA: 0s - loss: 2.2480 - accuracy: 0.6010 WARNING:tensorflow:Layers in a Sequential model should only have a single input tensor. Received: inputs={'age': <tf.Tensor 'IteratorGetNext:0' shape=(None,) dtype=int64>, 'sex': <tf.Tensor 'IteratorGetNext:8' shape=(None,) dtype=int64>, 'cp': <tf.Tensor 'IteratorGetNext:3' shape=(None,) dtype=int64>, 'trestbps': <tf.Tensor 'IteratorGetNext:12' shape=(None,) dtype=int64>, 'chol': <tf.Tensor 'IteratorGetNext:2' shape=(None,) dtype=int64>, 'fbs': <tf.Tensor 'IteratorGetNext:5' shape=(None,) dtype=int64>, 'restecg': <tf.Tensor 'IteratorGetNext:7' shape=(None,) dtype=int64>, 'thalach': <tf.Tensor 'IteratorGetNext:11' shape=(None,) dtype=int64>, 'exang': <tf.Tensor 'IteratorGetNext:4' shape=(None,) dtype=int64>, 'oldpeak': <tf.Tensor 'IteratorGetNext:6' shape=(None,) dtype=float64>, 'slope': <tf.Tensor 'IteratorGetNext:9' shape=(None,) dtype=int64>, 'ca': <tf.Tensor 'IteratorGetNext:1' shape=(None,) dtype=int64>, 'thal': <tf.Tensor 'IteratorGetNext:10' shape=(None,) dtype=string>}. Consider rewriting this model with the Functional API.\n",
      "7/7 [==============================] - 3s 74ms/step - loss: 2.2480 - accuracy: 0.6010 - val_loss: 0.8167 - val_accuracy: 0.6939\n",
      "Epoch 2/100\n",
      "7/7 [==============================] - 0s 7ms/step - loss: 0.6573 - accuracy: 0.6839 - val_loss: 0.7725 - val_accuracy: 0.7143\n",
      "Epoch 3/100\n",
      "7/7 [==============================] - 0s 7ms/step - loss: 0.6139 - accuracy: 0.7150 - val_loss: 0.9217 - val_accuracy: 0.7143\n",
      "Epoch 4/100\n",
      "7/7 [==============================] - 0s 10ms/step - loss: 0.8403 - accuracy: 0.7150 - val_loss: 0.8142 - val_accuracy: 0.6735\n",
      "Epoch 5/100\n",
      "7/7 [==============================] - 0s 7ms/step - loss: 0.5830 - accuracy: 0.7098 - val_loss: 1.0106 - val_accuracy: 0.7143\n",
      "Epoch 6/100\n",
      "7/7 [==============================] - 0s 11ms/step - loss: 0.6648 - accuracy: 0.7047 - val_loss: 0.6797 - val_accuracy: 0.7143\n",
      "Epoch 7/100\n",
      "7/7 [==============================] - 0s 9ms/step - loss: 0.5649 - accuracy: 0.7668 - val_loss: 0.6949 - val_accuracy: 0.7143\n",
      "Epoch 8/100\n",
      "7/7 [==============================] - 0s 7ms/step - loss: 0.4878 - accuracy: 0.7927 - val_loss: 0.7887 - val_accuracy: 0.7143\n",
      "Epoch 9/100\n",
      "7/7 [==============================] - 0s 10ms/step - loss: 0.5118 - accuracy: 0.7720 - val_loss: 0.7185 - val_accuracy: 0.6939\n",
      "Epoch 10/100\n",
      "7/7 [==============================] - 0s 7ms/step - loss: 0.4416 - accuracy: 0.7876 - val_loss: 0.7661 - val_accuracy: 0.7143\n",
      "Epoch 11/100\n",
      "7/7 [==============================] - 0s 7ms/step - loss: 0.4768 - accuracy: 0.7772 - val_loss: 0.6177 - val_accuracy: 0.7347\n",
      "Epoch 12/100\n",
      "7/7 [==============================] - 0s 11ms/step - loss: 0.4064 - accuracy: 0.8290 - val_loss: 0.6085 - val_accuracy: 0.7347\n",
      "Epoch 13/100\n",
      "7/7 [==============================] - 0s 7ms/step - loss: 0.3891 - accuracy: 0.8342 - val_loss: 0.6438 - val_accuracy: 0.7143\n",
      "Epoch 14/100\n",
      "7/7 [==============================] - 0s 7ms/step - loss: 0.3998 - accuracy: 0.8031 - val_loss: 0.6532 - val_accuracy: 0.7143\n",
      "Epoch 15/100\n",
      "7/7 [==============================] - 0s 10ms/step - loss: 0.4336 - accuracy: 0.7927 - val_loss: 0.7886 - val_accuracy: 0.6939\n",
      "Epoch 16/100\n",
      "7/7 [==============================] - 0s 7ms/step - loss: 0.4689 - accuracy: 0.7772 - val_loss: 0.6324 - val_accuracy: 0.7143\n",
      "Epoch 17/100\n",
      "7/7 [==============================] - 0s 10ms/step - loss: 0.4881 - accuracy: 0.7824 - val_loss: 0.7186 - val_accuracy: 0.6531\n",
      "Epoch 18/100\n",
      "7/7 [==============================] - 0s 11ms/step - loss: 0.4316 - accuracy: 0.8083 - val_loss: 0.7590 - val_accuracy: 0.7347\n",
      "Epoch 19/100\n",
      "7/7 [==============================] - 0s 7ms/step - loss: 0.4565 - accuracy: 0.7876 - val_loss: 0.6037 - val_accuracy: 0.7755\n",
      "Epoch 20/100\n",
      "7/7 [==============================] - 0s 9ms/step - loss: 0.3573 - accuracy: 0.8394 - val_loss: 0.6170 - val_accuracy: 0.7347\n",
      "Epoch 21/100\n",
      "7/7 [==============================] - 0s 10ms/step - loss: 0.4119 - accuracy: 0.8187 - val_loss: 0.8270 - val_accuracy: 0.7143\n",
      "Epoch 22/100\n",
      "7/7 [==============================] - 0s 7ms/step - loss: 0.4737 - accuracy: 0.7772 - val_loss: 0.7035 - val_accuracy: 0.6531\n",
      "Epoch 23/100\n",
      "7/7 [==============================] - 0s 10ms/step - loss: 0.3984 - accuracy: 0.8238 - val_loss: 0.6858 - val_accuracy: 0.6735\n",
      "Epoch 24/100\n",
      "7/7 [==============================] - 0s 7ms/step - loss: 0.3836 - accuracy: 0.8601 - val_loss: 0.5914 - val_accuracy: 0.7551\n",
      "Epoch 25/100\n",
      "7/7 [==============================] - 0s 10ms/step - loss: 0.3436 - accuracy: 0.8497 - val_loss: 0.5798 - val_accuracy: 0.7551\n",
      "Epoch 26/100\n",
      "7/7 [==============================] - 0s 10ms/step - loss: 0.3355 - accuracy: 0.8446 - val_loss: 0.5921 - val_accuracy: 0.6939\n",
      "Epoch 27/100\n",
      "7/7 [==============================] - 0s 7ms/step - loss: 0.3377 - accuracy: 0.8549 - val_loss: 0.6095 - val_accuracy: 0.7347\n",
      "Epoch 28/100\n",
      "7/7 [==============================] - 0s 10ms/step - loss: 0.3842 - accuracy: 0.8290 - val_loss: 0.7651 - val_accuracy: 0.6735\n",
      "Epoch 29/100\n",
      "7/7 [==============================] - 0s 7ms/step - loss: 0.3944 - accuracy: 0.8497 - val_loss: 0.6157 - val_accuracy: 0.7143\n",
      "Epoch 30/100\n",
      "7/7 [==============================] - 0s 7ms/step - loss: 0.3832 - accuracy: 0.8135 - val_loss: 0.7263 - val_accuracy: 0.6735\n",
      "Epoch 31/100\n",
      "7/7 [==============================] - 0s 10ms/step - loss: 0.4235 - accuracy: 0.7927 - val_loss: 0.7404 - val_accuracy: 0.6939\n",
      "Epoch 32/100\n",
      "7/7 [==============================] - 0s 7ms/step - loss: 0.4052 - accuracy: 0.8394 - val_loss: 0.5834 - val_accuracy: 0.7755\n",
      "Epoch 33/100\n",
      "7/7 [==============================] - 0s 10ms/step - loss: 0.3554 - accuracy: 0.8446 - val_loss: 0.6311 - val_accuracy: 0.7347\n",
      "Epoch 34/100\n",
      "7/7 [==============================] - 0s 10ms/step - loss: 0.3476 - accuracy: 0.8446 - val_loss: 0.6266 - val_accuracy: 0.7143\n",
      "Epoch 35/100\n",
      "7/7 [==============================] - 0s 7ms/step - loss: 0.3365 - accuracy: 0.8653 - val_loss: 0.5619 - val_accuracy: 0.7347\n",
      "Epoch 36/100\n",
      "7/7 [==============================] - 0s 10ms/step - loss: 0.3109 - accuracy: 0.8653 - val_loss: 0.5600 - val_accuracy: 0.7551\n",
      "Epoch 37/100\n",
      "7/7 [==============================] - 0s 7ms/step - loss: 0.3063 - accuracy: 0.8653 - val_loss: 0.5642 - val_accuracy: 0.6939\n",
      "Epoch 38/100\n",
      "7/7 [==============================] - 0s 7ms/step - loss: 0.3043 - accuracy: 0.8601 - val_loss: 0.5619 - val_accuracy: 0.6939\n",
      "Epoch 39/100\n",
      "7/7 [==============================] - 0s 9ms/step - loss: 0.3004 - accuracy: 0.8653 - val_loss: 0.5497 - val_accuracy: 0.7347\n",
      "Epoch 40/100\n",
      "7/7 [==============================] - 0s 7ms/step - loss: 0.2972 - accuracy: 0.8705 - val_loss: 0.5553 - val_accuracy: 0.7143\n",
      "Epoch 41/100\n",
      "7/7 [==============================] - 0s 10ms/step - loss: 0.2945 - accuracy: 0.8705 - val_loss: 0.5699 - val_accuracy: 0.6939\n",
      "Epoch 42/100\n",
      "7/7 [==============================] - 0s 7ms/step - loss: 0.2995 - accuracy: 0.8756 - val_loss: 0.5562 - val_accuracy: 0.7143\n",
      "Epoch 43/100\n",
      "7/7 [==============================] - 0s 7ms/step - loss: 0.2898 - accuracy: 0.8808 - val_loss: 0.5714 - val_accuracy: 0.6939\n",
      "Epoch 44/100\n",
      "7/7 [==============================] - 0s 11ms/step - loss: 0.2924 - accuracy: 0.8860 - val_loss: 0.5696 - val_accuracy: 0.7143\n",
      "Epoch 45/100\n",
      "7/7 [==============================] - 0s 7ms/step - loss: 0.2865 - accuracy: 0.8756 - val_loss: 0.5669 - val_accuracy: 0.7143\n",
      "Epoch 46/100\n",
      "7/7 [==============================] - 0s 10ms/step - loss: 0.2946 - accuracy: 0.8497 - val_loss: 0.5677 - val_accuracy: 0.6939\n",
      "Epoch 47/100\n",
      "7/7 [==============================] - 0s 10ms/step - loss: 0.2838 - accuracy: 0.8705 - val_loss: 0.8490 - val_accuracy: 0.6327\n",
      "Epoch 48/100\n",
      "7/7 [==============================] - 0s 7ms/step - loss: 0.6027 - accuracy: 0.7513 - val_loss: 1.1100 - val_accuracy: 0.6939\n",
      "Epoch 49/100\n",
      "7/7 [==============================] - 0s 10ms/step - loss: 0.5494 - accuracy: 0.8135 - val_loss: 0.6873 - val_accuracy: 0.6939\n",
      "Epoch 50/100\n",
      "7/7 [==============================] - 0s 7ms/step - loss: 0.3464 - accuracy: 0.8446 - val_loss: 0.6644 - val_accuracy: 0.7551\n",
      "Epoch 51/100\n",
      "7/7 [==============================] - 0s 7ms/step - loss: 0.3396 - accuracy: 0.8446 - val_loss: 0.5936 - val_accuracy: 0.7143\n",
      "Epoch 52/100\n",
      "7/7 [==============================] - 0s 10ms/step - loss: 0.3001 - accuracy: 0.8705 - val_loss: 0.6043 - val_accuracy: 0.7143\n",
      "Epoch 53/100\n",
      "7/7 [==============================] - 0s 7ms/step - loss: 0.3006 - accuracy: 0.8653 - val_loss: 0.5508 - val_accuracy: 0.7347\n",
      "Epoch 54/100\n",
      "7/7 [==============================] - 0s 10ms/step - loss: 0.2944 - accuracy: 0.8653 - val_loss: 0.5610 - val_accuracy: 0.7755\n",
      "Epoch 55/100\n",
      "7/7 [==============================] - 0s 7ms/step - loss: 0.2891 - accuracy: 0.8705 - val_loss: 0.5638 - val_accuracy: 0.7347\n",
      "Epoch 56/100\n",
      "7/7 [==============================] - 0s 7ms/step - loss: 0.2877 - accuracy: 0.8756 - val_loss: 0.5923 - val_accuracy: 0.6939\n",
      "Epoch 57/100\n",
      "7/7 [==============================] - 0s 10ms/step - loss: 0.2809 - accuracy: 0.8756 - val_loss: 0.5668 - val_accuracy: 0.7143\n",
      "Epoch 58/100\n",
      "7/7 [==============================] - 0s 7ms/step - loss: 0.2703 - accuracy: 0.8912 - val_loss: 0.5618 - val_accuracy: 0.6939\n",
      "Epoch 59/100\n",
      "7/7 [==============================] - 0s 9ms/step - loss: 0.2700 - accuracy: 0.8912 - val_loss: 0.5535 - val_accuracy: 0.6939\n",
      "Epoch 60/100\n",
      "7/7 [==============================] - 0s 7ms/step - loss: 0.2663 - accuracy: 0.8808 - val_loss: 0.5569 - val_accuracy: 0.6939\n",
      "Epoch 61/100\n",
      "7/7 [==============================] - 0s 7ms/step - loss: 0.2633 - accuracy: 0.8860 - val_loss: 0.5645 - val_accuracy: 0.7143\n",
      "Epoch 62/100\n",
      "7/7 [==============================] - 0s 10ms/step - loss: 0.2620 - accuracy: 0.8912 - val_loss: 0.5603 - val_accuracy: 0.7143\n",
      "Epoch 63/100\n",
      "7/7 [==============================] - 0s 7ms/step - loss: 0.2650 - accuracy: 0.8808 - val_loss: 0.5675 - val_accuracy: 0.7143\n",
      "Epoch 64/100\n",
      "7/7 [==============================] - 0s 10ms/step - loss: 0.2613 - accuracy: 0.8808 - val_loss: 0.5698 - val_accuracy: 0.7143\n",
      "Epoch 65/100\n",
      "7/7 [==============================] - 0s 10ms/step - loss: 0.2564 - accuracy: 0.8912 - val_loss: 0.5677 - val_accuracy: 0.7347\n",
      "Epoch 66/100\n",
      "7/7 [==============================] - 0s 7ms/step - loss: 0.2568 - accuracy: 0.8860 - val_loss: 0.8242 - val_accuracy: 0.6735\n",
      "Epoch 67/100\n",
      "7/7 [==============================] - 0s 10ms/step - loss: 0.5492 - accuracy: 0.7876 - val_loss: 1.0327 - val_accuracy: 0.7143\n",
      "Epoch 68/100\n",
      "7/7 [==============================] - 0s 7ms/step - loss: 0.4529 - accuracy: 0.8187 - val_loss: 0.6686 - val_accuracy: 0.6531\n",
      "Epoch 69/100\n",
      "7/7 [==============================] - 0s 10ms/step - loss: 0.3138 - accuracy: 0.8601 - val_loss: 0.6127 - val_accuracy: 0.7143\n",
      "Epoch 70/100\n",
      "7/7 [==============================] - 0s 10ms/step - loss: 0.2918 - accuracy: 0.8653 - val_loss: 0.5821 - val_accuracy: 0.7551\n",
      "Epoch 71/100\n",
      "7/7 [==============================] - 0s 7ms/step - loss: 0.2947 - accuracy: 0.8860 - val_loss: 0.6040 - val_accuracy: 0.7143\n",
      "Epoch 72/100\n",
      "7/7 [==============================] - 0s 10ms/step - loss: 0.2856 - accuracy: 0.8860 - val_loss: 0.5933 - val_accuracy: 0.7755\n",
      "Epoch 73/100\n",
      "7/7 [==============================] - 0s 7ms/step - loss: 0.3153 - accuracy: 0.8860 - val_loss: 0.5923 - val_accuracy: 0.7755\n",
      "Epoch 74/100\n",
      "7/7 [==============================] - 0s 7ms/step - loss: 0.4724 - accuracy: 0.8446 - val_loss: 0.9167 - val_accuracy: 0.7347\n",
      "Epoch 75/100\n",
      "7/7 [==============================] - 0s 10ms/step - loss: 0.4470 - accuracy: 0.8187 - val_loss: 0.7195 - val_accuracy: 0.6939\n",
      "Epoch 76/100\n",
      "7/7 [==============================] - 0s 7ms/step - loss: 0.3316 - accuracy: 0.8549 - val_loss: 0.6807 - val_accuracy: 0.6939\n",
      "Epoch 77/100\n",
      "7/7 [==============================] - 0s 10ms/step - loss: 0.2897 - accuracy: 0.8808 - val_loss: 0.5788 - val_accuracy: 0.7551\n",
      "Epoch 78/100\n",
      "7/7 [==============================] - 0s 10ms/step - loss: 0.2656 - accuracy: 0.8860 - val_loss: 0.5655 - val_accuracy: 0.7755\n",
      "Epoch 79/100\n",
      "7/7 [==============================] - 0s 7ms/step - loss: 0.2709 - accuracy: 0.8912 - val_loss: 0.5759 - val_accuracy: 0.6939\n",
      "Epoch 80/100\n",
      "7/7 [==============================] - 0s 10ms/step - loss: 0.2549 - accuracy: 0.8964 - val_loss: 0.5489 - val_accuracy: 0.7347\n",
      "Epoch 81/100\n",
      "7/7 [==============================] - 0s 7ms/step - loss: 0.2522 - accuracy: 0.8964 - val_loss: 0.5474 - val_accuracy: 0.7347\n",
      "Epoch 82/100\n",
      "7/7 [==============================] - 0s 10ms/step - loss: 0.2503 - accuracy: 0.8964 - val_loss: 0.5661 - val_accuracy: 0.6735\n",
      "Epoch 83/100\n",
      "7/7 [==============================] - 0s 10ms/step - loss: 0.2484 - accuracy: 0.9016 - val_loss: 0.5593 - val_accuracy: 0.7551\n",
      "Epoch 84/100\n",
      "7/7 [==============================] - 0s 7ms/step - loss: 0.2568 - accuracy: 0.8912 - val_loss: 0.5533 - val_accuracy: 0.6939\n",
      "Epoch 85/100\n",
      "7/7 [==============================] - 0s 10ms/step - loss: 0.2490 - accuracy: 0.9016 - val_loss: 0.7874 - val_accuracy: 0.6531\n",
      "Epoch 86/100\n",
      "7/7 [==============================] - 0s 7ms/step - loss: 0.5525 - accuracy: 0.7668 - val_loss: 1.2377 - val_accuracy: 0.6939\n",
      "Epoch 87/100\n",
      "7/7 [==============================] - 0s 7ms/step - loss: 0.5319 - accuracy: 0.7876 - val_loss: 0.7665 - val_accuracy: 0.7551\n",
      "Epoch 88/100\n",
      "7/7 [==============================] - 0s 11ms/step - loss: 0.3631 - accuracy: 0.8601 - val_loss: 0.6715 - val_accuracy: 0.7347\n",
      "Epoch 89/100\n",
      "7/7 [==============================] - 0s 7ms/step - loss: 0.3254 - accuracy: 0.8601 - val_loss: 0.6670 - val_accuracy: 0.6939\n",
      "Epoch 90/100\n",
      "7/7 [==============================] - 0s 10ms/step - loss: 0.2824 - accuracy: 0.8964 - val_loss: 0.6256 - val_accuracy: 0.7347\n",
      "Epoch 91/100\n",
      "7/7 [==============================] - 0s 10ms/step - loss: 0.2725 - accuracy: 0.8860 - val_loss: 0.6014 - val_accuracy: 0.6939\n",
      "Epoch 92/100\n",
      "7/7 [==============================] - 0s 7ms/step - loss: 0.2595 - accuracy: 0.8912 - val_loss: 0.5634 - val_accuracy: 0.7143\n",
      "Epoch 93/100\n",
      "7/7 [==============================] - 0s 10ms/step - loss: 0.2545 - accuracy: 0.8756 - val_loss: 0.5762 - val_accuracy: 0.6939\n",
      "Epoch 94/100\n",
      "7/7 [==============================] - 0s 7ms/step - loss: 0.2560 - accuracy: 0.8860 - val_loss: 0.6035 - val_accuracy: 0.6939\n",
      "Epoch 95/100\n",
      "7/7 [==============================] - 0s 7ms/step - loss: 0.2489 - accuracy: 0.9016 - val_loss: 0.5826 - val_accuracy: 0.7347\n",
      "Epoch 96/100\n",
      "7/7 [==============================] - 0s 10ms/step - loss: 0.2441 - accuracy: 0.8860 - val_loss: 0.5756 - val_accuracy: 0.7347\n",
      "Epoch 97/100\n",
      "7/7 [==============================] - 0s 7ms/step - loss: 0.2507 - accuracy: 0.8860 - val_loss: 0.5979 - val_accuracy: 0.6939\n",
      "Epoch 98/100\n",
      "7/7 [==============================] - 0s 10ms/step - loss: 0.2379 - accuracy: 0.9016 - val_loss: 0.5816 - val_accuracy: 0.7347\n",
      "Epoch 99/100\n",
      "7/7 [==============================] - 0s 10ms/step - loss: 0.2372 - accuracy: 0.8860 - val_loss: 0.5911 - val_accuracy: 0.7551\n",
      "Epoch 100/100\n",
      "7/7 [==============================] - 0s 7ms/step - loss: 0.2527 - accuracy: 0.8964 - val_loss: 0.5986 - val_accuracy: 0.6939\n"
     ]
    },
    {
     "data": {
      "text/plain": [
       "<keras.callbacks.History at 0x7f47303754f0>"
      ]
     },
     "execution_count": 19,
     "metadata": {},
     "output_type": "execute_result"
    }
   ],
   "source": [
    "model = tf.keras.Sequential([\n",
    "        feature_layer,\n",
    "        layers.Dense(128, activation='relu'),\n",
    "        layers.Dense(128, activation='relu'),\n",
    "        layers.Dense(1, activation='sigmoid')\n",
    "])\n",
    "\n",
    "model.compile(optimizer='adam',\n",
    "              loss='binary_crossentropy',\n",
    "              metrics=['accuracy'])\n",
    "\n",
    "model.fit(train_ds,\n",
    "          validation_data=val_ds,\n",
    "          epochs=100)"
   ]
  },
  {
   "cell_type": "code",
   "execution_count": 20,
   "metadata": {
    "colab": {},
    "colab_type": "code",
    "id": "GnFmMOW0Tcaa"
   },
   "outputs": [
    {
     "name": "stdout",
     "output_type": "stream",
     "text": [
      "2/2 [==============================] - 0s 5ms/step - loss: 0.4513 - accuracy: 0.7869\n",
      "Accuracy 0.7868852615356445\n"
     ]
    }
   ],
   "source": [
    "loss, accuracy = model.evaluate(test_ds)\n",
    "print(\"Accuracy\", accuracy)"
   ]
  },
  {
   "cell_type": "markdown",
   "metadata": {},
   "source": [
    "# Submission Instructions"
   ]
  },
  {
   "cell_type": "code",
   "execution_count": null,
   "metadata": {},
   "outputs": [],
   "source": [
    "# Now click the 'Submit Assignment' button above."
   ]
  },
  {
   "cell_type": "markdown",
   "metadata": {},
   "source": [
    "# When you're done or would like to take a break, please run the two cells below to save your work and close the Notebook. This frees up resources for your fellow learners."
   ]
  },
  {
   "cell_type": "code",
   "execution_count": null,
   "metadata": {},
   "outputs": [],
   "source": [
    "%%javascript\n",
    "<!-- Save the notebook -->\n",
    "IPython.notebook.save_checkpoint();"
   ]
  },
  {
   "cell_type": "code",
   "execution_count": null,
   "metadata": {},
   "outputs": [],
   "source": [
    "%%javascript\n",
    "<!-- Shutdown and close the notebook -->\n",
    "window.onbeforeunload = null\n",
    "window.close();\n",
    "IPython.notebook.session.delete();"
   ]
  }
 ],
 "metadata": {
  "accelerator": "GPU",
  "colab": {
   "collapsed_sections": [],
   "include_colab_link": true,
   "name": "Week 2 Exercise Question.ipynb",
   "provenance": []
  },
  "coursera": {
   "schema_names": [
    "tensorflow-datasets-w3"
   ]
  },
  "kernelspec": {
   "display_name": "Python 3",
   "language": "python",
   "name": "python3"
  },
  "language_info": {
   "codemirror_mode": {
    "name": "ipython",
    "version": 3
   },
   "file_extension": ".py",
   "mimetype": "text/x-python",
   "name": "python",
   "nbconvert_exporter": "python",
   "pygments_lexer": "ipython3",
   "version": "3.8.10"
  }
 },
 "nbformat": 4,
 "nbformat_minor": 1
}
