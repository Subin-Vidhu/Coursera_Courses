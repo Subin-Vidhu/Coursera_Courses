{
  "metadata": {
    "language_info": {
      "codemirror_mode": {
        "name": "python",
        "version": 3
      },
      "file_extension": ".py",
      "mimetype": "text/x-python",
      "name": "python",
      "nbconvert_exporter": "python",
      "pygments_lexer": "ipython3",
      "version": "3.8"
    },
    "kernelspec": {
      "name": "python",
      "display_name": "Pyolite",
      "language": "python"
    }
  },
  "nbformat_minor": 4,
  "nbformat": 4,
  "cells": [
    {
      "cell_type": "markdown",
      "source": "<p style=\"text-align:center\">\n    <a href=\"https://skills.network/?utm_medium=Exinfluencer&utm_source=Exinfluencer&utm_content=000026UJ&utm_term=10006555&utm_id=NA-SkillsNetwork-Channel-SkillsNetworkCoursesIBMML240ENSkillsNetwork34171862-2022-01-01\" target=\"_blank\">\n    <img src=\"https://cf-courses-data.s3.us.cloud-object-storage.appdomain.cloud/assets/logos/SN_web_lightmode.png\" width=\"200\" alt=\"Skills Network Logo\"  />\n    </a>\n</p>\n",
      "metadata": {}
    },
    {
      "cell_type": "markdown",
      "source": "# Cross Validation\n\nEstimated time needed: **45** minutes\n\nWhen performing supervised machine learning analysis, it is common to withhold a portion of the data to test the final model's performance. This model testing is performed on the 'unseen' data, which the model was not trained on. This withholding of a portion of the dataset for testing is called Cross-Validation. Cross-Validation can also be used to select hyper-parameters and test the final model. In this section, we will focus on the test data only.\n\nCross-Validation also helps avoid over-fitting; a complex model could repeat the labels of the samples that it has just seen and, therefore, would have a perfect score but would fail to predict anything useful on the 'unseen' data. Furthermore, a complex model could just be modeling noise.\n",
      "metadata": {}
    },
    {
      "cell_type": "markdown",
      "source": "Cross validation method involves dividing the dataset into 3 parts:\n\n*   training set - is a portion of the data used for training the model\n*   validation set - is a portion of the data used to optimize the hyper-parameters of the model. This will     be illustrated in the next lab\n*   test set - is a portion of the data used to evaluate if the model generalizes enough to work on the\\\n    data it was not trained on\n",
      "metadata": {}
    },
    {
      "cell_type": "markdown",
      "source": "`Scikit Learn` library contains many methods that can perform the splitting of the data into training, testing and validation sets. The most popular methods that we will cover in this Jupyter Notebook are:\n\n*   train_test_split - creates a single split into train and test sets\n*   K-fold - creates number of k-fold splits, allowing cross validation\n*   cross_val_score - evaluates model's score through cross validation\n",
      "metadata": {}
    },
    {
      "cell_type": "markdown",
      "source": "## Objectives\n\nAfter completing this lab you will be able to:\n\n*   Understand how to split the data into a training and testing sets\n*   Understand and perform K-fold cross validation method\n*   Calculate Cross Validation Scores\n",
      "metadata": {}
    },
    {
      "cell_type": "markdown",
      "source": "***\n",
      "metadata": {}
    },
    {
      "cell_type": "markdown",
      "source": "## **Setup**\n",
      "metadata": {}
    },
    {
      "cell_type": "markdown",
      "source": "For this lab, we will be using the following libraries:\n\n*   [`pandas`](https://pandas.pydata.org/?utm_medium=Exinfluencer&utm_source=Exinfluencer&utm_content=000026UJ&utm_term=10006555&utm_id=NA-SkillsNetwork-Channel-SkillsNetworkCoursesIBMML240ENSkillsNetwork34171862-2022-01-01) for managing the data.\n*   [`numpy`](https://numpy.org/?utm_medium=Exinfluencer&utm_source=Exinfluencer&utm_content=000026UJ&utm_term=10006555&utm_id=NA-SkillsNetwork-Channel-SkillsNetworkCoursesIBMML240ENSkillsNetwork34171862-2022-01-01) for mathematical operations.\n*   [`seaborn`](https://seaborn.pydata.org/?utm_medium=Exinfluencer&utm_source=Exinfluencer&utm_content=000026UJ&utm_term=10006555&utm_id=NA-SkillsNetwork-Channel-SkillsNetworkCoursesIBMML240ENSkillsNetwork34171862-2022-01-01) for visualizing the data.\n*   [`matplotlib`](https://matplotlib.org/?utm_medium=Exinfluencer&utm_source=Exinfluencer&utm_content=000026UJ&utm_term=10006555&utm_id=NA-SkillsNetwork-Channel-SkillsNetworkCoursesIBMML240ENSkillsNetwork34171862-2022-01-01) for visualizing the data.\n*   [`sklearn`](https://scikit-learn.org/stable/?utm_medium=Exinfluencer&utm_source=Exinfluencer&utm_content=000026UJ&utm_term=10006555&utm_id=NA-SkillsNetwork-Channel-SkillsNetworkCoursesIBMML240ENSkillsNetwork34171862-2022-01-01) for machine learning and machine-learning-pipeline related functions.\n",
      "metadata": {}
    },
    {
      "cell_type": "markdown",
      "source": "## **Import the required libraries**\n",
      "metadata": {}
    },
    {
      "cell_type": "markdown",
      "source": "The following required modules are pre-installed in the Skills Network Labs environment. However, if you run this notebook commands in a different Jupyter environment (e.g. Watson Studio or Ananconda) you will need to install these libraries by removing the `#` sign before `!mamba` in the code cell below.\n",
      "metadata": {}
    },
    {
      "cell_type": "code",
      "source": "# All Libraries required for this lab are listed below. The libraries pre-installed on Skills Network Labs are commented.\n#!mamba install -qy pandas==1.3.4 numpy==1.21.4 seaborn==0.9.0 matplotlib==3.5.0 scikit-learn==0.20.1\n# Note: If your environment doesn't support \"!mamba install\", use \n# \"!pip install pandas==1.3.4 numpy==1.21.4 seaborn==0.9.0 matplotlib==3.5.0 scikit-learn==0.20.1\"",
      "metadata": {
        "trusted": true
      },
      "execution_count": 1,
      "outputs": []
    },
    {
      "cell_type": "code",
      "source": "#!pip install -U scikit-learn",
      "metadata": {
        "trusted": true
      },
      "execution_count": 2,
      "outputs": []
    },
    {
      "cell_type": "code",
      "source": "# Surpress warnings:\ndef warn(*args, **kwargs):\n    pass\nimport warnings\nwarnings.warn = warn",
      "metadata": {
        "trusted": true
      },
      "execution_count": 3,
      "outputs": []
    },
    {
      "cell_type": "code",
      "source": "import piplite\nawait piplite.install(['tqdm', 'seaborn', 'skillsnetwork', 'pandas', 'numpy', 'scikit-learn'])",
      "metadata": {
        "trusted": true
      },
      "execution_count": 4,
      "outputs": []
    },
    {
      "cell_type": "code",
      "source": "import pandas as pd\nimport numpy as np \n\nimport seaborn as sns \nimport matplotlib.pylab as plt\n%matplotlib inline\n\nfrom sklearn.model_selection import train_test_split\nfrom sklearn.metrics import r2_score \nfrom sklearn.metrics import mean_squared_error\nfrom sklearn.preprocessing import StandardScaler\nfrom sklearn.feature_selection import RFE\nfrom sklearn.linear_model import LinearRegression\nfrom sklearn.pipeline import Pipeline\nfrom sklearn.model_selection import cross_val_score\nfrom sklearn.model_selection import KFold\nfrom sklearn.model_selection import GridSearchCV\nfrom sklearn.preprocessing import Normalizer\nimport skillsnetwork",
      "metadata": {
        "trusted": true
      },
      "execution_count": 5,
      "outputs": []
    },
    {
      "cell_type": "markdown",
      "source": "## **Reading our data**\n",
      "metadata": {}
    },
    {
      "cell_type": "markdown",
      "source": "For this lab, we will be using the car sales dataset, hosted on IBM Cloud object storage. The dataset contains all the information about cars, the name of the manufacturer, the year it was launched, all car technical parameters, and the sale price. This dataset has already been pre-cleaned and encoded (using one-hot and label encoders) in the Linear Regression Notebook.\n",
      "metadata": {}
    },
    {
      "cell_type": "markdown",
      "source": "Let's read the data into *pandas* data frame and look at the first 5 rows using the `head()` method.\n",
      "metadata": {}
    },
    {
      "cell_type": "code",
      "source": "URL = 'https://cf-courses-data.s3.us.cloud-object-storage.appdomain.cloud/IBM-ML240EN-SkillsNetwork/labs/encoded_car_data.csv'\n\nawait skillsnetwork.download_dataset(URL)\n\ndata = pd.read_csv('encoded_car_data.csv')\ndata.head()",
      "metadata": {
        "trusted": true
      },
      "execution_count": 6,
      "outputs": [
        {
          "name": "stderr",
          "text": "encoded_car_data.csv: 100%|##########| 33230/33230 [00:00<00:00, 16614223.62it/s]\n",
          "output_type": "stream"
        },
        {
          "name": "stdout",
          "text": "Saved as encoded_car_data.csv\n",
          "output_type": "stream"
        },
        {
          "execution_count": 6,
          "output_type": "execute_result",
          "data": {
            "text/plain": "   diesel  gas  std  turbo  convertible  hardtop  hatchback  sedan  wagon  \\\n0     0.0  1.0  1.0    0.0          1.0      0.0        0.0    0.0    0.0   \n1     0.0  1.0  1.0    0.0          1.0      0.0        0.0    0.0    0.0   \n2     0.0  1.0  1.0    0.0          0.0      0.0        1.0    0.0    0.0   \n3     0.0  1.0  1.0    0.0          0.0      0.0        0.0    1.0    0.0   \n4     0.0  1.0  1.0    0.0          0.0      0.0        0.0    1.0    0.0   \n\n   4wd  ...  wheelbase  curbweight  enginesize  boreratio  horsepower  \\\n0  0.0  ...       88.6      2548.0       130.0       3.47       111.0   \n1  0.0  ...       88.6      2548.0       130.0       3.47       111.0   \n2  0.0  ...       94.5      2823.0       152.0       2.68       154.0   \n3  0.0  ...       99.8      2337.0       109.0       3.19       102.0   \n4  1.0  ...       99.4      2824.0       136.0       3.19       115.0   \n\n   carlength  carwidth  citympg  highwaympg    price  \n0      168.8      64.1     21.0        27.0  13495.0  \n1      168.8      64.1     21.0        27.0  16500.0  \n2      171.2      65.5     19.0        26.0  16500.0  \n3      176.6      66.2     24.0        30.0  13950.0  \n4      176.6      66.4     18.0        22.0  17450.0  \n\n[5 rows x 36 columns]",
            "text/html": "<div>\n<style scoped>\n    .dataframe tbody tr th:only-of-type {\n        vertical-align: middle;\n    }\n\n    .dataframe tbody tr th {\n        vertical-align: top;\n    }\n\n    .dataframe thead th {\n        text-align: right;\n    }\n</style>\n<table border=\"1\" class=\"dataframe\">\n  <thead>\n    <tr style=\"text-align: right;\">\n      <th></th>\n      <th>diesel</th>\n      <th>gas</th>\n      <th>std</th>\n      <th>turbo</th>\n      <th>convertible</th>\n      <th>hardtop</th>\n      <th>hatchback</th>\n      <th>sedan</th>\n      <th>wagon</th>\n      <th>4wd</th>\n      <th>...</th>\n      <th>wheelbase</th>\n      <th>curbweight</th>\n      <th>enginesize</th>\n      <th>boreratio</th>\n      <th>horsepower</th>\n      <th>carlength</th>\n      <th>carwidth</th>\n      <th>citympg</th>\n      <th>highwaympg</th>\n      <th>price</th>\n    </tr>\n  </thead>\n  <tbody>\n    <tr>\n      <th>0</th>\n      <td>0.0</td>\n      <td>1.0</td>\n      <td>1.0</td>\n      <td>0.0</td>\n      <td>1.0</td>\n      <td>0.0</td>\n      <td>0.0</td>\n      <td>0.0</td>\n      <td>0.0</td>\n      <td>0.0</td>\n      <td>...</td>\n      <td>88.6</td>\n      <td>2548.0</td>\n      <td>130.0</td>\n      <td>3.47</td>\n      <td>111.0</td>\n      <td>168.8</td>\n      <td>64.1</td>\n      <td>21.0</td>\n      <td>27.0</td>\n      <td>13495.0</td>\n    </tr>\n    <tr>\n      <th>1</th>\n      <td>0.0</td>\n      <td>1.0</td>\n      <td>1.0</td>\n      <td>0.0</td>\n      <td>1.0</td>\n      <td>0.0</td>\n      <td>0.0</td>\n      <td>0.0</td>\n      <td>0.0</td>\n      <td>0.0</td>\n      <td>...</td>\n      <td>88.6</td>\n      <td>2548.0</td>\n      <td>130.0</td>\n      <td>3.47</td>\n      <td>111.0</td>\n      <td>168.8</td>\n      <td>64.1</td>\n      <td>21.0</td>\n      <td>27.0</td>\n      <td>16500.0</td>\n    </tr>\n    <tr>\n      <th>2</th>\n      <td>0.0</td>\n      <td>1.0</td>\n      <td>1.0</td>\n      <td>0.0</td>\n      <td>0.0</td>\n      <td>0.0</td>\n      <td>1.0</td>\n      <td>0.0</td>\n      <td>0.0</td>\n      <td>0.0</td>\n      <td>...</td>\n      <td>94.5</td>\n      <td>2823.0</td>\n      <td>152.0</td>\n      <td>2.68</td>\n      <td>154.0</td>\n      <td>171.2</td>\n      <td>65.5</td>\n      <td>19.0</td>\n      <td>26.0</td>\n      <td>16500.0</td>\n    </tr>\n    <tr>\n      <th>3</th>\n      <td>0.0</td>\n      <td>1.0</td>\n      <td>1.0</td>\n      <td>0.0</td>\n      <td>0.0</td>\n      <td>0.0</td>\n      <td>0.0</td>\n      <td>1.0</td>\n      <td>0.0</td>\n      <td>0.0</td>\n      <td>...</td>\n      <td>99.8</td>\n      <td>2337.0</td>\n      <td>109.0</td>\n      <td>3.19</td>\n      <td>102.0</td>\n      <td>176.6</td>\n      <td>66.2</td>\n      <td>24.0</td>\n      <td>30.0</td>\n      <td>13950.0</td>\n    </tr>\n    <tr>\n      <th>4</th>\n      <td>0.0</td>\n      <td>1.0</td>\n      <td>1.0</td>\n      <td>0.0</td>\n      <td>0.0</td>\n      <td>0.0</td>\n      <td>0.0</td>\n      <td>1.0</td>\n      <td>0.0</td>\n      <td>1.0</td>\n      <td>...</td>\n      <td>99.4</td>\n      <td>2824.0</td>\n      <td>136.0</td>\n      <td>3.19</td>\n      <td>115.0</td>\n      <td>176.6</td>\n      <td>66.4</td>\n      <td>18.0</td>\n      <td>22.0</td>\n      <td>17450.0</td>\n    </tr>\n  </tbody>\n</table>\n<p>5 rows × 36 columns</p>\n</div>"
          },
          "metadata": {}
        }
      ]
    },
    {
      "cell_type": "markdown",
      "source": "We apply `dtypes.value_counts()` to see what types of data we have.\n",
      "metadata": {}
    },
    {
      "cell_type": "code",
      "source": "data.dtypes.value_counts()",
      "metadata": {
        "trusted": true
      },
      "execution_count": 7,
      "outputs": [
        {
          "execution_count": 7,
          "output_type": "execute_result",
          "data": {
            "text/plain": "float64    36\ndtype: int64"
          },
          "metadata": {}
        }
      ]
    },
    {
      "cell_type": "markdown",
      "source": "We can verify the data type using the method `info()`.\n",
      "metadata": {}
    },
    {
      "cell_type": "code",
      "source": "data.info()",
      "metadata": {
        "trusted": true
      },
      "execution_count": 8,
      "outputs": [
        {
          "name": "stdout",
          "text": "<class 'pandas.core.frame.DataFrame'>\nRangeIndex: 205 entries, 0 to 204\nData columns (total 36 columns):\n #   Column       Non-Null Count  Dtype  \n---  ------       --------------  -----  \n 0   diesel       205 non-null    float64\n 1   gas          205 non-null    float64\n 2   std          205 non-null    float64\n 3   turbo        205 non-null    float64\n 4   convertible  205 non-null    float64\n 5   hardtop      205 non-null    float64\n 6   hatchback    205 non-null    float64\n 7   sedan        205 non-null    float64\n 8   wagon        205 non-null    float64\n 9   4wd          205 non-null    float64\n 10  fwd          205 non-null    float64\n 11  rwd          205 non-null    float64\n 12  dohc         205 non-null    float64\n 13  dohcv        205 non-null    float64\n 14  l            205 non-null    float64\n 15  ohc          205 non-null    float64\n 16  ohcf         205 non-null    float64\n 17  ohcv         205 non-null    float64\n 18  rotor        205 non-null    float64\n 19  eight        205 non-null    float64\n 20  five         205 non-null    float64\n 21  four         205 non-null    float64\n 22  six          205 non-null    float64\n 23  three        205 non-null    float64\n 24  twelve       205 non-null    float64\n 25  two          205 non-null    float64\n 26  wheelbase    205 non-null    float64\n 27  curbweight   205 non-null    float64\n 28  enginesize   205 non-null    float64\n 29  boreratio    205 non-null    float64\n 30  horsepower   205 non-null    float64\n 31  carlength    205 non-null    float64\n 32  carwidth     205 non-null    float64\n 33  citympg      205 non-null    float64\n 34  highwaympg   205 non-null    float64\n 35  price        205 non-null    float64\ndtypes: float64(36)\nmemory usage: 57.7 KB\n",
          "output_type": "stream"
        }
      ]
    },
    {
      "cell_type": "markdown",
      "source": "As we see from above, we now have only numeric parameters.\n",
      "metadata": {}
    },
    {
      "cell_type": "markdown",
      "source": "### Data Preparation\n\nLet's first split our data into `X` features and `y` target.\n",
      "metadata": {}
    },
    {
      "cell_type": "code",
      "source": "X = data.drop(columns=['price'])\ny = data['price'].copy()",
      "metadata": {
        "trusted": true
      },
      "execution_count": 9,
      "outputs": []
    },
    {
      "cell_type": "markdown",
      "source": "# Train Test Split\n",
      "metadata": {}
    },
    {
      "cell_type": "markdown",
      "source": "Now, we split our data into training and testing sets. Training data is used for our model to recognize patterns using some criteria, the test data is used for model evaluation, as shown in the image below.\n",
      "metadata": {}
    },
    {
      "cell_type": "markdown",
      "source": "<center>\n    <img src=\"https://cf-courses-data.s3.us.cloud-object-storage.appdomain.cloud/IBM-ML240EN-SkillsNetwork/images/trin-test.png\"  />\n</center>\nsource scikit-learn.org\n",
      "metadata": {}
    },
    {
      "cell_type": "markdown",
      "source": "We use the function `train_test_split` that  splits arrays or matrices into random train and test subsets. The parameters of the `train_test_split` are:\n",
      "metadata": {}
    },
    {
      "cell_type": "markdown",
      "source": "`X,y`: the allowed inputs are lists, numpy arrays, scipy-sparse matrices or pandas data frames.\n\n`test_size`:  If float, it should be between 0.0 and 1.0 and represents the proportion of the dataset to include in the test split. If int (integer), it represents the absolute number of test samples. If None, the value is set to the complement of the train size. If train_size is also None, it will be set to 0.25.\n\nIn our example, we will use 30% of the data for testing and 70% for training.\n\n`random_state:` Controls the shuffling applied to the data before applying the split. Pass an int for reproducible output across multiple function calls. in our case, we set it to \"42\".\n",
      "metadata": {}
    },
    {
      "cell_type": "code",
      "source": "X_train, X_test, y_train, y_test = train_test_split(X,y, test_size=0.3, random_state=42)",
      "metadata": {
        "trusted": true
      },
      "execution_count": 10,
      "outputs": []
    },
    {
      "cell_type": "markdown",
      "source": "### Model Building and Evaluation\n\nLet's perform linear regression using traditional `train_test_split`, which will split the data into train and test set, so that each target value appears in both training and testing sets. We will start by creating a `LinearRegression()` object, lr.\n",
      "metadata": {}
    },
    {
      "cell_type": "code",
      "source": "lr = LinearRegression()",
      "metadata": {
        "trusted": true
      },
      "execution_count": 11,
      "outputs": []
    },
    {
      "cell_type": "markdown",
      "source": "We apply the `LinearRegression()` model, m, and `fit()` our `X_train` and `  y_train `  training data.\n",
      "metadata": {}
    },
    {
      "cell_type": "code",
      "source": "lr.fit(X_train, y_train)",
      "metadata": {
        "trusted": true
      },
      "execution_count": 12,
      "outputs": [
        {
          "execution_count": 12,
          "output_type": "execute_result",
          "data": {
            "text/plain": "LinearRegression()"
          },
          "metadata": {}
        }
      ]
    },
    {
      "cell_type": "markdown",
      "source": "To make our predictions, we need to use our test data set. We apply `predict()` function on the testing data set.\n",
      "metadata": {}
    },
    {
      "cell_type": "code",
      "source": "predicted =lr.predict(X_test)\n",
      "metadata": {
        "trusted": true
      },
      "execution_count": 13,
      "outputs": []
    },
    {
      "cell_type": "markdown",
      "source": "Now, let's check some evaluation statistics, such as the coefficient of determination, $R^{2}$, using the built-in method `score` or  `r2_score`, and the Root Mean Square Error, RMSE, for which we can use the `mean_squared_error` method, MSE.\n\nThe $R^{2}$ statistic indicates the percentage of the variance in the dependent variable that the independent variables explain collectively.\n\nRoot Mean Square Error (RMSE) is the standard deviation of the residuals (prediction errors). Residuals are a measure of how far from the regression line data points are; RMSE is a measure of how spread out these residuals are. In other words, it tells you how concentrated the data is around the line of best fit.\n\nFor more information on [R-squared](https://en.wikipedia.org/wiki/Coefficient_of_determination?utm_medium=Exinfluencer&utm_source=Exinfluencer&utm_content=000026UJ&utm_term=10006555&utm_id=NA-SkillsNetwork-Channel-SkillsNetworkCoursesIBMML240ENSkillsNetwork34171862-2022-01-01) and [RMSE](https://en.wikipedia.org/wiki/Root-mean-square_deviation?utm_medium=Exinfluencer&utm_source=Exinfluencer&utm_content=000026UJ&utm_term=10006555&utm_id=NA-SkillsNetwork-Channel-SkillsNetworkCoursesIBMML240ENSkillsNetwork34171862-2022-01-01), please visit their corresponding documentations.\n",
      "metadata": {}
    },
    {
      "cell_type": "code",
      "source": "lr.score(X_train,y_train)",
      "metadata": {
        "trusted": true
      },
      "execution_count": 14,
      "outputs": [
        {
          "execution_count": 14,
          "output_type": "execute_result",
          "data": {
            "text/plain": "0.9257973126002254"
          },
          "metadata": {}
        }
      ]
    },
    {
      "cell_type": "markdown",
      "source": "Using the training data only, the $R^{2}$ is \\~ 0.93. So, almost 93% of variability in the training data is explained by our model.\n",
      "metadata": {}
    },
    {
      "cell_type": "markdown",
      "source": "Using the test data  $R^{2}$, we get \\~0.85, not as good as the previous score.\n",
      "metadata": {}
    },
    {
      "cell_type": "code",
      "source": "lr.score(X_test,y_test)",
      "metadata": {
        "trusted": true
      },
      "execution_count": 15,
      "outputs": [
        {
          "execution_count": 15,
          "output_type": "execute_result",
          "data": {
            "text/plain": "0.8460745155111146"
          },
          "metadata": {}
        }
      ]
    },
    {
      "cell_type": "markdown",
      "source": "We can also use  `r2_score()` method to calculate the $R^2$. It will provide the same result.\n",
      "metadata": {}
    },
    {
      "cell_type": "code",
      "source": "print(r2_score(y_true=y_test, y_pred=predicted))",
      "metadata": {
        "trusted": true
      },
      "execution_count": 16,
      "outputs": [
        {
          "name": "stdout",
          "text": "0.8460745155111146\n",
          "output_type": "stream"
        }
      ]
    },
    {
      "cell_type": "markdown",
      "source": "Now, let's calculate the RMSE. The smaller the RMSE number the better our model is.\nWe apply `mean_squared_error` to our `y_test`and our predicted data. Then, we take a square root of our MSE, using `np.sqrt()` function.\n",
      "metadata": {}
    },
    {
      "cell_type": "code",
      "source": "mse = mean_squared_error(y_true=y_test, y_pred=predicted)\nrmse = np.sqrt(mse)\nrmse",
      "metadata": {
        "trusted": true
      },
      "execution_count": 17,
      "outputs": [
        {
          "execution_count": 17,
          "output_type": "execute_result",
          "data": {
            "text/plain": "3265.67474578413"
          },
          "metadata": {}
        }
      ]
    },
    {
      "cell_type": "markdown",
      "source": "### Prediction Example\n\nLet's select some random data, using `iloc` and see some predicted versus actual values for the car prices.\n",
      "metadata": {}
    },
    {
      "cell_type": "code",
      "source": "some_data = X.iloc[:3]\nsome_labels = y.iloc[:3]",
      "metadata": {
        "trusted": true
      },
      "execution_count": 18,
      "outputs": []
    },
    {
      "cell_type": "code",
      "source": "print(\"Predictions:\", lr.predict(some_data))",
      "metadata": {
        "trusted": true
      },
      "execution_count": 19,
      "outputs": [
        {
          "name": "stdout",
          "text": "Predictions: [13054.375 13054.375 15111.5  ]\n",
          "output_type": "stream"
        }
      ]
    },
    {
      "cell_type": "code",
      "source": "print(\"Labels:\", list(some_labels))",
      "metadata": {
        "trusted": true
      },
      "execution_count": 20,
      "outputs": [
        {
          "name": "stdout",
          "text": "Labels: [13495.0, 16500.0, 16500.0]\n",
          "output_type": "stream"
        }
      ]
    },
    {
      "cell_type": "code",
      "source": "predicted =lr.predict(X_test)\npredicted",
      "metadata": {
        "trusted": true
      },
      "execution_count": 21,
      "outputs": [
        {
          "execution_count": 21,
          "output_type": "execute_result",
          "data": {
            "text/plain": "array([27859.5  , 21504.875, 10707.125, 12161.75 , 26483.75 ,  5235.375,\n        8108.   ,  7431.   , 10057.125,  9514.5  , 17357.875,  7087.125,\n       16521.875, 10784.75 , 40185.25 ,  5357.125,  2019.   , 15717.75 ,\n       10750.875, 11427.875, 10823.125, 15974.875, 10401.625,  3308.   ,\n        6842.125, 28900.5  , 18392.375, 15283.625,  4237.25 , 16516.375,\n       27134.875,  5612.625,  4758.375, 16823.25 ,  8183.5  , 30782.25 ,\n       12350.25 , 12851.625,  6110.75 , 16178.625,  8043.625, 15285.625,\n       14887.375,  5114.125,  6077.75 ,  9022.625,  5612.625,  7093.   ,\n       16965.5  , 15568.625,  4814.375, 21964.625,  7054.   , 11414.125,\n        4170.375, 16486.125, 18413.   , 12851.625, 29715.125,  5219.5  ,\n        9793.75 , 17079.75 ])"
          },
          "metadata": {}
        }
      ]
    },
    {
      "cell_type": "markdown",
      "source": "We can also use the pipeline to run operations on our data. For example we can standardize our data then perform linear regression by applying the method <code>fit</code>.\n",
      "metadata": {}
    },
    {
      "cell_type": "code",
      "source": "pipe = Pipeline([('ss',StandardScaler() ),('lr', LinearRegression())])\npipe.fit(X_train,y_train)\npipe",
      "metadata": {
        "trusted": true
      },
      "execution_count": 22,
      "outputs": [
        {
          "execution_count": 22,
          "output_type": "execute_result",
          "data": {
            "text/plain": "Pipeline(steps=[('ss', StandardScaler()), ('lr', LinearRegression())])"
          },
          "metadata": {}
        }
      ]
    },
    {
      "cell_type": "markdown",
      "source": "Let's calculate the R squared.\n",
      "metadata": {}
    },
    {
      "cell_type": "code",
      "source": "pipe.score(X_train,y_train)",
      "metadata": {
        "trusted": true
      },
      "execution_count": 23,
      "outputs": [
        {
          "execution_count": 23,
          "output_type": "execute_result",
          "data": {
            "text/plain": "0.9253667969561122"
          },
          "metadata": {}
        }
      ]
    },
    {
      "cell_type": "markdown",
      "source": "Using the training data only, the R squared is \\~ 0.93.\\\nNow, let's check the R squared on the test set.\n",
      "metadata": {}
    },
    {
      "cell_type": "code",
      "source": "pipe.score(X_test,y_test)",
      "metadata": {
        "trusted": true
      },
      "execution_count": 24,
      "outputs": [
        {
          "execution_count": 24,
          "output_type": "execute_result",
          "data": {
            "text/plain": "-3.2763488583654815e+24"
          },
          "metadata": {}
        }
      ]
    },
    {
      "cell_type": "markdown",
      "source": "The R squared is much lower. This value provides more accurate evaluation of our model since we test our model on the 'unseen' data set. In case if the R squared is negative, it is because the model is too complex and the data is overfitting. For more information, please, visit this [documentation](https://en.wikipedia.org/wiki/Overfitting?utm_medium=Exinfluencer&utm_source=Exinfluencer&utm_content=000026UJ&utm_term=10006555&utm_id=NA-SkillsNetwork-Channel-SkillsNetworkCoursesIBMML240ENSkillsNetwork34171862-2022-01-01) on overfitting.\n\nThis will make more sense when we explore polynomial regression.\n",
      "metadata": {}
    },
    {
      "cell_type": "markdown",
      "source": "## Exercise 1\n\nCreate a pipeline object called pipe1, replace standardization with normalization. Calculate the $R^{2}$ using the built-in method `score` and for RMSE, using `mean_squared_error` method.\n",
      "metadata": {}
    },
    {
      "cell_type": "code",
      "source": "# Enter your code and run the cell\npipe_1 = Pipeline([('nn',Normalizer() ),('lr', LinearRegression())])\npipe_1.fit(X_train, y_train)\n\n\npipe_1.score(X_train,y_train)\npipe_1.score(X_test,y_test)\n\n\npred =pipe_1.predict(X_test)\n\n\nmse = mean_squared_error(y_true=y_test, y_pred=pred)\nrmse = np.sqrt(mse)\nrmse",
      "metadata": {
        "trusted": true
      },
      "execution_count": 25,
      "outputs": [
        {
          "execution_count": 25,
          "output_type": "execute_result",
          "data": {
            "text/plain": "490980103066.1066"
          },
          "metadata": {}
        }
      ]
    },
    {
      "cell_type": "markdown",
      "source": "<details>\n<summary><strong>Solution</strong> (Click Here)</summary>\n    &emsp; &emsp; <code>\n\npipe\\_1 = Pipeline(\\[('nn',Normalizer() ),('lr', LinearRegression())])\npipe\\_1.fit(X_train, y_train)\n\npipe\\_1.score(X_train,y_train)\npipe\\_1.score(X_test,y_test)\n\npred =pipe\\_1.predict(X_test)\n\nmse = mean_squared_error(y_true=y_test, y_pred=pred)\nrmse = np.sqrt(mse)\nrmse\n\n</code>\n</details>\n",
      "metadata": {}
    },
    {
      "cell_type": "markdown",
      "source": "Note, you can also use `normalize` by setting the `LinearRegression(normalize=True)`.\n",
      "metadata": {}
    },
    {
      "cell_type": "markdown",
      "source": "## One feature\n",
      "metadata": {}
    },
    {
      "cell_type": "markdown",
      "source": "We can use the test data to select a feature with the best performance. We have a list of features:\n",
      "metadata": {}
    },
    {
      "cell_type": "code",
      "source": "features=list(X)\nfeatures",
      "metadata": {
        "trusted": true
      },
      "execution_count": 26,
      "outputs": [
        {
          "execution_count": 26,
          "output_type": "execute_result",
          "data": {
            "text/plain": "['diesel',\n 'gas',\n 'std',\n 'turbo',\n 'convertible',\n 'hardtop',\n 'hatchback',\n 'sedan',\n 'wagon',\n '4wd',\n 'fwd',\n 'rwd',\n 'dohc',\n 'dohcv',\n 'l',\n 'ohc',\n 'ohcf',\n 'ohcv',\n 'rotor',\n 'eight',\n 'five',\n 'four',\n 'six',\n 'three',\n 'twelve',\n 'two',\n 'wheelbase',\n 'curbweight',\n 'enginesize',\n 'boreratio',\n 'horsepower',\n 'carlength',\n 'carwidth',\n 'citympg',\n 'highwaympg']"
          },
          "metadata": {}
        }
      ]
    },
    {
      "cell_type": "markdown",
      "source": "We can train a linear regression model using each feature and use the test data to obtain the best feature.\n",
      "metadata": {}
    },
    {
      "cell_type": "code",
      "source": "R_2=[]\npipe = Pipeline([('ss',StandardScaler() ),('lr', LinearRegression())])\n\nfor feature in features:\n    pipe.fit(X_train[[feature]],y_train)\n    R_2.append(pipe.score(X_train[[feature]],y_train))\n    \n    ",
      "metadata": {
        "trusted": true
      },
      "execution_count": 27,
      "outputs": []
    },
    {
      "cell_type": "markdown",
      "source": "We can plot the $R^{2}$ for each feature.\n",
      "metadata": {}
    },
    {
      "cell_type": "code",
      "source": "plt.bar(features,R_2)\nplt.xticks(rotation=90)\nplt.ylabel(\"$R^2$\")\nplt.show()",
      "metadata": {
        "trusted": true
      },
      "execution_count": 28,
      "outputs": [
        {
          "output_type": "display_data",
          "data": {
            "text/plain": "<pyolite.display.Image at 0x4d5cfd0>",
            "image/png": "[encoded data removed]"
          },
          "metadata": {}
        },
        {
          "output_type": "display_data",
          "data": {
            "text/plain": "<Figure size 640x480 with 0 Axes>"
          },
          "metadata": {}
        }
      ]
    },
    {
      "cell_type": "markdown",
      "source": "Now, we select the feature that works best, using `argmax()` function.\n",
      "metadata": {}
    },
    {
      "cell_type": "code",
      "source": "best=features[np.argmax(R_2)]\nbest",
      "metadata": {
        "trusted": true
      },
      "execution_count": 29,
      "outputs": [
        {
          "execution_count": 29,
          "output_type": "execute_result",
          "data": {
            "text/plain": "'enginesize'"
          },
          "metadata": {}
        }
      ]
    },
    {
      "cell_type": "markdown",
      "source": "So, 'enginesize' is the feature that produces the highest $R^{2}$. We then train the feature that works best using all the data.\n",
      "metadata": {}
    },
    {
      "cell_type": "code",
      "source": "pipe.fit(X[[best]],y)",
      "metadata": {
        "trusted": true
      },
      "execution_count": 30,
      "outputs": [
        {
          "execution_count": 30,
          "output_type": "execute_result",
          "data": {
            "text/plain": "Pipeline(steps=[('ss', StandardScaler()), ('lr', LinearRegression())])"
          },
          "metadata": {}
        }
      ]
    },
    {
      "cell_type": "markdown",
      "source": "## Exercise 2\n\nIn this Exercise, find the best feature using the test data, without standardization.\n",
      "metadata": {}
    },
    {
      "cell_type": "code",
      "source": "# Enter your code and run the cell\nR_2=[]\n\nfor feature in features:\n\n\n    lr.fit(X_train[[feature]], y_train)\n    R_2.append(lr.score(X_test[[feature]],y_test))\n\nbest=features[np.argmax(R_2)]\n\n\nplt.bar(features,R_2)\nplt.xticks(rotation=90)\nplt.ylabel(\"$R^2$\")\n\n\nplt.show()\nbest=features[np.argmax(R_2)]\nprint(best) ",
      "metadata": {
        "trusted": true
      },
      "execution_count": 44,
      "outputs": [
        {
          "output_type": "display_data",
          "data": {
            "text/plain": "<pyolite.display.Image at 0x55f2ab0>",
            "image/png": "[encoded data removed]"
          },
          "metadata": {}
        },
        {
          "name": "stdout",
          "text": "curbweight\n",
          "output_type": "stream"
        },
        {
          "output_type": "display_data",
          "data": {
            "text/plain": "<Figure size 640x480 with 0 Axes>"
          },
          "metadata": {}
        }
      ]
    },
    {
      "cell_type": "markdown",
      "source": "<details>\n<summary><strong>Solution</strong> (Click Here)</summary>\n    &emsp; &emsp; <code>\nR_2=[]\n\nfor feature in features:\n\n```\nlr.fit(X_train[[feature]], y_train)\nR_2.append(lr.score(X_test[[feature]],y_test))\n```\n\nbest=features\\[np.argmax(R\\_2)]\n\nplt.bar(features,R\\_2)\nplt.xticks(rotation=90)\nplt.ylabel(\"$R^2$\")\n\nplt.show()\nbest=features\\[np.argmax(R\\_2)]\nprint(best) </code>\n\n</details>\n",
      "metadata": {}
    },
    {
      "cell_type": "markdown",
      "source": "# K Fold Cross Validation\n",
      "metadata": {}
    },
    {
      "cell_type": "markdown",
      "source": "Cross-validation is a resampling procedure used to evaluate machine learning models on a limited data sample.\n\nThe procedure has a single parameter called k that refers to the number of groups that a given data sample is to be split into. As such, the procedure is often called k-fold cross-validation. When a specific value for k is chosen, it may be used in place of k in the reference to the model, such as k=5 becoming 5-fold cross-validation, as shown in the Diagram below. In this case, we would use K-1 (or 4 folds) for testing a 1 fold for training. K-fold is also used for hyper-parameters selection that we will discuss later.\n",
      "metadata": {}
    },
    {
      "cell_type": "markdown",
      "source": "<center>\n    <img src=\"https://cf-courses-data.s3.us.cloud-object-storage.appdomain.cloud/IBM-ML240EN-SkillsNetwork/images/k-fold.png\"  />\n</center>\n<center>source scikit-learn.org</center>\n",
      "metadata": {}
    },
    {
      "cell_type": "markdown",
      "source": "## Cross Validation Score\n",
      "metadata": {}
    },
    {
      "cell_type": "markdown",
      "source": "Now, let's use *Scikit-Learn's* *K-fold cross-validation* method to see whether we can assess the performance of our model. The *K-fold cross-validation* method splits the training set into the number of folds (n_splits), as now in the Diagram above, if we have K folds, K-1 is used for training and one fold is used for testing. The input parameters are as follows:\n",
      "metadata": {}
    },
    {
      "cell_type": "markdown",
      "source": "<b>estimatorestimator</b>: The object to use to `fit` the data.\n\n<b>X</b>: array-like of shape (n_samples, n_features). The data to fit. Can be for example a list, or an array.\n\n<b>y</b>: array-like of shape (n_samples,) or (n_samples, n_outputs), default=None. The target variable to try to predict in the case of supervised learning.\n\n<b>scoring</b>: A str or a scorer callable object/ function with signature scorer (estimator, X, y) which should return only a single value.  See model evaluation [documentation](https://scikit-learn.org/stable/modules/model_evaluation.html?utm_medium=Exinfluencer&utm_source=Exinfluencer&utm_content=000026UJ&utm_term=10006555&utm_id=NA-SkillsNetwork-Channel-SkillsNetworkCoursesIBMML240ENSkillsNetwork34171862-2022-01-01#scoring-parameter) for more information.\n",
      "metadata": {}
    },
    {
      "cell_type": "code",
      "source": "N=len(X)\nN",
      "metadata": {
        "trusted": true
      },
      "execution_count": 32,
      "outputs": [
        {
          "execution_count": 32,
          "output_type": "execute_result",
          "data": {
            "text/plain": "205"
          },
          "metadata": {}
        }
      ]
    },
    {
      "cell_type": "markdown",
      "source": "Now, let's create a Linear Regression object.\n",
      "metadata": {}
    },
    {
      "cell_type": "code",
      "source": "lr = LinearRegression()",
      "metadata": {
        "trusted": true
      },
      "execution_count": 33,
      "outputs": []
    },
    {
      "cell_type": "markdown",
      "source": "Then, calculate cross validation scores based on our testing sets.\n",
      "metadata": {}
    },
    {
      "cell_type": "code",
      "source": "scores = cross_val_score(lr, X, y, scoring =\"r2\", cv=3)",
      "metadata": {
        "trusted": true
      },
      "execution_count": 34,
      "outputs": []
    },
    {
      "cell_type": "markdown",
      "source": "Now, we have the $R^{2}$ for each fold not used to train the model.\n",
      "metadata": {}
    },
    {
      "cell_type": "code",
      "source": "scores ",
      "metadata": {
        "trusted": true
      },
      "execution_count": 35,
      "outputs": [
        {
          "execution_count": 35,
          "output_type": "execute_result",
          "data": {
            "text/plain": "array([ 0.81554824,  0.7268678 , -0.09066526])"
          },
          "metadata": {}
        }
      ]
    },
    {
      "cell_type": "markdown",
      "source": "We can calculate mean and standard deviation using the following function of the `scores`:\n",
      "metadata": {}
    },
    {
      "cell_type": "code",
      "source": "def display_scores(scores, print_=False):\n    \n    print(\"Scores:\", scores)\n    print(\"Mean:\", scores.mean())\n    print(\"Standard deviation:\", scores.std())\n",
      "metadata": {
        "trusted": true
      },
      "execution_count": 36,
      "outputs": []
    },
    {
      "cell_type": "code",
      "source": "display_scores(scores)",
      "metadata": {
        "trusted": true
      },
      "execution_count": 37,
      "outputs": [
        {
          "name": "stdout",
          "text": "Scores: [ 0.81554824  0.7268678  -0.09066526]\nMean: 0.4839169255495858\nStandard deviation: 0.40790078071397784\n",
          "output_type": "stream"
        }
      ]
    },
    {
      "cell_type": "markdown",
      "source": "The larger the fold, the better the model performance is, as we are using more samples for training; the variance also decreases.\n",
      "metadata": {}
    },
    {
      "cell_type": "markdown",
      "source": "Cross Validation Scores are RMSE values for training the data on each of our folds, in our case cv = 3, so we get 3 scores, 1 for each fold.\n",
      "metadata": {}
    },
    {
      "cell_type": "markdown",
      "source": "## Exercise 3\n\nIn this Exercise, compute the cross validation scores for 5 folds, using the linear regression object `lr` and `neg_mean_squared_error` method for scoring.\n",
      "metadata": {}
    },
    {
      "cell_type": "code",
      "source": "# Enter your code and run the cell\nscores = cross_val_score(lr, X ,y, scoring =\"neg_mean_squared_error\", cv=5)\nlr_scores = np.sqrt(-scores)\ndisplay_scores(lr_scores)",
      "metadata": {
        "trusted": true
      },
      "execution_count": 38,
      "outputs": [
        {
          "name": "stdout",
          "text": "Scores: [ 3155.3045326  11346.82222328  3016.33452313  5623.83900681\n  5514.72334705]\nMean: 5731.404726573148\nStandard deviation: 3019.911696908348\n",
          "output_type": "stream"
        }
      ]
    },
    {
      "cell_type": "markdown",
      "source": "<details>\n<summary><strong>Solution</strong> (Click Here)</summary>\n    &emsp; &emsp; <code>\n\nscores = cross_val_score(lr, X ,y, scoring =\"neg_mean_squared_error\", cv=5)\nlr_scores = np.sqrt(-scores)\ndisplay_scores(lr_scores)\n\n</code>\n</details>\n",
      "metadata": {}
    },
    {
      "cell_type": "markdown",
      "source": "### K Fold\n",
      "metadata": {}
    },
    {
      "cell_type": "markdown",
      "source": "In many cases, we would like to train models that are not available in Scikit-learn or are too large to fit in the memory. We can create a `KFold` object that  Provides train/test indices to split data into train/test sets in an iterative manner.\n\n`n_splitsint`:  A number of folds. Must be at least 2. Changed in version 0.22: n_splits default value changed from 3 to 5.\n\n`shuffle`: Indicates whether to shuffle the data before splitting into batches. Note, the samples within each split will not be shuffled.\n\n`random_state`: the random state.\n",
      "metadata": {}
    },
    {
      "cell_type": "markdown",
      "source": "We create the  `KFold` object `kf`, setting the number of splits to 2.\n",
      "metadata": {}
    },
    {
      "cell_type": "code",
      "source": "n_splits=2\nkf = KFold(n_splits = n_splits)",
      "metadata": {
        "trusted": true
      },
      "execution_count": 39,
      "outputs": []
    },
    {
      "cell_type": "markdown",
      "source": "We train the model using the `split(X,y)` method. It provides the train/test indices for `X` and `y`. Half the data is used for training in the first iteration, and the rest is used for testing and displaying the indexes for each set.  For the second iteration, the data used for training is used for testing, and the testing data is used for training. We store the $R^2$ for each iteration in the array  `R_2`. The `np.zeros()` function returns a new array of given shape and type, filled with zeros. Then, we calculate the $R^2$ for each of the X_train and X_test splits.\n",
      "metadata": {}
    },
    {
      "cell_type": "code",
      "source": "y = data['price'].copy()\nX = data.drop(columns=['price'])\nR_2 = np.zeros((n_splits,1))\npipe = Pipeline([('ss',StandardScaler() ),('lr', LinearRegression())])\nn=0\nfor k,(train_index, test_index) in enumerate(kf.split(X,y)):\n    print(\"TRAIN:\", train_index)\n    print(\"TEST:\", test_index)\n    X_train, X_test =X.iloc[train_index],X.iloc[test_index]\n    \n    y_train, y_test=y[train_index],y[test_index]\n    pipe.fit(X_train,y_train)\n    n=+1\n    R_2[k]=pipe.score(X_test, y_test)",
      "metadata": {
        "trusted": true
      },
      "execution_count": 40,
      "outputs": [
        {
          "name": "stdout",
          "text": "TRAIN: [103 104 105 106 107 108 109 110 111 112 113 114 115 116 117 118 119 120\n 121 122 123 124 125 126 127 128 129 130 131 132 133 134 135 136 137 138\n 139 140 141 142 143 144 145 146 147 148 149 150 151 152 153 154 155 156\n 157 158 159 160 161 162 163 164 165 166 167 168 169 170 171 172 173 174\n 175 176 177 178 179 180 181 182 183 184 185 186 187 188 189 190 191 192\n 193 194 195 196 197 198 199 200 201 202 203 204]\nTEST: [  0   1   2   3   4   5   6   7   8   9  10  11  12  13  14  15  16  17\n  18  19  20  21  22  23  24  25  26  27  28  29  30  31  32  33  34  35\n  36  37  38  39  40  41  42  43  44  45  46  47  48  49  50  51  52  53\n  54  55  56  57  58  59  60  61  62  63  64  65  66  67  68  69  70  71\n  72  73  74  75  76  77  78  79  80  81  82  83  84  85  86  87  88  89\n  90  91  92  93  94  95  96  97  98  99 100 101 102]\nTRAIN: [  0   1   2   3   4   5   6   7   8   9  10  11  12  13  14  15  16  17\n  18  19  20  21  22  23  24  25  26  27  28  29  30  31  32  33  34  35\n  36  37  38  39  40  41  42  43  44  45  46  47  48  49  50  51  52  53\n  54  55  56  57  58  59  60  61  62  63  64  65  66  67  68  69  70  71\n  72  73  74  75  76  77  78  79  80  81  82  83  84  85  86  87  88  89\n  90  91  92  93  94  95  96  97  98  99 100 101 102]\nTEST: [103 104 105 106 107 108 109 110 111 112 113 114 115 116 117 118 119 120\n 121 122 123 124 125 126 127 128 129 130 131 132 133 134 135 136 137 138\n 139 140 141 142 143 144 145 146 147 148 149 150 151 152 153 154 155 156\n 157 158 159 160 161 162 163 164 165 166 167 168 169 170 171 172 173 174\n 175 176 177 178 179 180 181 182 183 184 185 186 187 188 189 190 191 192\n 193 194 195 196 197 198 199 200 201 202 203 204]\n",
          "output_type": "stream"
        }
      ]
    },
    {
      "cell_type": "markdown",
      "source": "We can calculate the average $R^2$.\n",
      "metadata": {}
    },
    {
      "cell_type": "code",
      "source": "R_2.mean()",
      "metadata": {
        "trusted": true
      },
      "execution_count": 41,
      "outputs": [
        {
          "execution_count": 41,
          "output_type": "execute_result",
          "data": {
            "text/plain": "-8.419382497460312e+25"
          },
          "metadata": {}
        }
      ]
    },
    {
      "cell_type": "markdown",
      "source": "If we set the number of splits to three, we see 2/3's of the data is used for training.\n",
      "metadata": {}
    },
    {
      "cell_type": "code",
      "source": "n_splits=3\nkf = KFold(n_splits = n_splits)\ny = data['price'].copy()\nX = data.drop(columns=['price'])\nR_2=np.zeros((n_splits,1))\npipe = Pipeline([('ss',StandardScaler() ),('lr', LinearRegression())])\nn=0\nfor k,(train_index, test_index) in enumerate(kf.split(X,y)):\n    print(\"TRAIN:\", train_index)\n    print(\"TEST:\", test_index)\n    X_train, X_test =X.iloc[train_index],X.iloc[test_index]\n    \n    y_train, y_test=y[train_index],y[test_index]\n    pipe.fit(X_train,y_train)\n    n=+1\n    R_2[k]=pipe.score(X_test, y_test)\n    \n    \nR_2.mean()",
      "metadata": {
        "trusted": true
      },
      "execution_count": 42,
      "outputs": [
        {
          "name": "stdout",
          "text": "TRAIN: [ 69  70  71  72  73  74  75  76  77  78  79  80  81  82  83  84  85  86\n  87  88  89  90  91  92  93  94  95  96  97  98  99 100 101 102 103 104\n 105 106 107 108 109 110 111 112 113 114 115 116 117 118 119 120 121 122\n 123 124 125 126 127 128 129 130 131 132 133 134 135 136 137 138 139 140\n 141 142 143 144 145 146 147 148 149 150 151 152 153 154 155 156 157 158\n 159 160 161 162 163 164 165 166 167 168 169 170 171 172 173 174 175 176\n 177 178 179 180 181 182 183 184 185 186 187 188 189 190 191 192 193 194\n 195 196 197 198 199 200 201 202 203 204]\nTEST: [ 0  1  2  3  4  5  6  7  8  9 10 11 12 13 14 15 16 17 18 19 20 21 22 23\n 24 25 26 27 28 29 30 31 32 33 34 35 36 37 38 39 40 41 42 43 44 45 46 47\n 48 49 50 51 52 53 54 55 56 57 58 59 60 61 62 63 64 65 66 67 68]\nTRAIN: [  0   1   2   3   4   5   6   7   8   9  10  11  12  13  14  15  16  17\n  18  19  20  21  22  23  24  25  26  27  28  29  30  31  32  33  34  35\n  36  37  38  39  40  41  42  43  44  45  46  47  48  49  50  51  52  53\n  54  55  56  57  58  59  60  61  62  63  64  65  66  67  68 137 138 139\n 140 141 142 143 144 145 146 147 148 149 150 151 152 153 154 155 156 157\n 158 159 160 161 162 163 164 165 166 167 168 169 170 171 172 173 174 175\n 176 177 178 179 180 181 182 183 184 185 186 187 188 189 190 191 192 193\n 194 195 196 197 198 199 200 201 202 203 204]\nTEST: [ 69  70  71  72  73  74  75  76  77  78  79  80  81  82  83  84  85  86\n  87  88  89  90  91  92  93  94  95  96  97  98  99 100 101 102 103 104\n 105 106 107 108 109 110 111 112 113 114 115 116 117 118 119 120 121 122\n 123 124 125 126 127 128 129 130 131 132 133 134 135 136]\nTRAIN: [  0   1   2   3   4   5   6   7   8   9  10  11  12  13  14  15  16  17\n  18  19  20  21  22  23  24  25  26  27  28  29  30  31  32  33  34  35\n  36  37  38  39  40  41  42  43  44  45  46  47  48  49  50  51  52  53\n  54  55  56  57  58  59  60  61  62  63  64  65  66  67  68  69  70  71\n  72  73  74  75  76  77  78  79  80  81  82  83  84  85  86  87  88  89\n  90  91  92  93  94  95  96  97  98  99 100 101 102 103 104 105 106 107\n 108 109 110 111 112 113 114 115 116 117 118 119 120 121 122 123 124 125\n 126 127 128 129 130 131 132 133 134 135 136]\nTEST: [137 138 139 140 141 142 143 144 145 146 147 148 149 150 151 152 153 154\n 155 156 157 158 159 160 161 162 163 164 165 166 167 168 169 170 171 172\n 173 174 175 176 177 178 179 180 181 182 183 184 185 186 187 188 189 190\n 191 192 193 194 195 196 197 198 199 200 201 202 203 204]\n",
          "output_type": "stream"
        },
        {
          "execution_count": 42,
          "output_type": "execute_result",
          "data": {
            "text/plain": "-8.84692738886359e+26"
          },
          "metadata": {}
        }
      ]
    },
    {
      "cell_type": "markdown",
      "source": "## Exercise 4\n\nIt many applications, it is useful to randomly select samples for K fold cross validation. In this Exercise, randomly select samples by setting `shuffle` to `True` in the `KFold` constructor. Use all the parameters, as above.\n",
      "metadata": {}
    },
    {
      "cell_type": "code",
      "source": "# Enter your code and run the cell\nn_splits=3\nkf = KFold(n_splits = n_splits,shuffle=True)\ny = data['price'].copy()\nX = data.drop(columns=['price'])\nR_2=np.zeros((n_splits,1))\npipe = Pipeline([('ss',StandardScaler() ),('lr', LinearRegression())])\nn=0\nfor k,(train_index, test_index) in enumerate(kf.split(X,y)):\n    print(\"TRAIN:\", train_index)\n    print(\"TEST:\", test_index)\n    X_train, X_test =X.iloc[train_index],X.iloc[test_index]\n\n\n    y_train, y_test=y[train_index],y[test_index]\n    pipe.fit(X_train,y_train)\n    n=+1\n    R_2[k]=pipe.score(X_test, y_test)\n\n    R_2.mean()",
      "metadata": {
        "trusted": true
      },
      "execution_count": 45,
      "outputs": [
        {
          "name": "stdout",
          "text": "TRAIN: [  0   2   3   5   6   7   8   9  10  11  13  14  15  16  18  20  21  23\n  24  27  28  29  31  32  33  34  35  36  37  38  40  42  43  44  46  48\n  49  50  51  52  53  54  55  58  60  62  64  65  66  68  69  71  72  74\n  75  77  81  82  84  87  88  92  93  94  96  97  98  99 100 101 103 104\n 106 107 109 110 112 113 114 115 117 118 119 121 122 123 124 126 129 131\n 132 134 135 136 137 139 140 141 142 143 145 147 149 150 151 152 155 157\n 158 159 160 162 163 164 166 170 171 173 174 175 176 177 180 181 182 184\n 185 187 189 193 195 196 198 199 201 202]\nTEST: [  1   4  12  17  19  22  25  26  30  39  41  45  47  56  57  59  61  63\n  67  70  73  76  78  79  80  83  85  86  89  90  91  95 102 105 108 111\n 116 120 125 127 128 130 133 138 144 146 148 153 154 156 161 165 167 168\n 169 172 178 179 183 186 188 190 191 192 194 197 200 203 204]\nTRAIN: [  0   1   4   5   6   7   8  11  12  13  14  15  17  18  19  20  21  22\n  23  25  26  28  30  32  33  35  38  39  40  41  42  45  47  50  53  54\n  55  56  57  58  59  61  63  64  66  67  68  69  70  73  74  76  77  78\n  79  80  81  83  84  85  86  87  89  90  91  92  94  95 100 101 102 103\n 104 105 106 108 109 111 112 116 118 120 123 124 125 127 128 129 130 131\n 133 134 135 138 139 141 144 146 148 152 153 154 155 156 159 160 161 162\n 163 164 165 166 167 168 169 170 172 173 174 177 178 179 180 183 186 187\n 188 189 190 191 192 194 197 198 200 203 204]\nTEST: [  2   3   9  10  16  24  27  29  31  34  36  37  43  44  46  48  49  51\n  52  60  62  65  71  72  75  82  88  93  96  97  98  99 107 110 113 114\n 115 117 119 121 122 126 132 136 137 140 142 143 145 147 149 150 151 157\n 158 171 175 176 181 182 184 185 193 195 196 199 201 202]\nTRAIN: [  1   2   3   4   9  10  12  16  17  19  22  24  25  26  27  29  30  31\n  34  36  37  39  41  43  44  45  46  47  48  49  51  52  56  57  59  60\n  61  62  63  65  67  70  71  72  73  75  76  78  79  80  82  83  85  86\n  88  89  90  91  93  95  96  97  98  99 102 105 107 108 110 111 113 114\n 115 116 117 119 120 121 122 125 126 127 128 130 132 133 136 137 138 140\n 142 143 144 145 146 147 148 149 150 151 153 154 156 157 158 161 165 167\n 168 169 171 172 175 176 178 179 181 182 183 184 185 186 188 190 191 192\n 193 194 195 196 197 199 200 201 202 203 204]\nTEST: [  0   5   6   7   8  11  13  14  15  18  20  21  23  28  32  33  35  38\n  40  42  50  53  54  55  58  64  66  68  69  74  77  81  84  87  92  94\n 100 101 103 104 106 109 112 118 123 124 129 131 134 135 139 141 152 155\n 159 160 162 163 164 166 170 173 174 177 180 187 189 198]\n",
          "output_type": "stream"
        }
      ]
    },
    {
      "cell_type": "markdown",
      "source": "<details>\n<summary><strong>Solution</strong> (Click Here)</summary>\n    &emsp; &emsp; <code>\n\nn_splits=3\nkf = KFold(n_splits = n_splits,shuffle=True)\ny = data\\['price'].copy()\nX = data.drop(columns=\\['price'])\nR\\_2=np.zeros((n_splits,1))\npipe = Pipeline(\\[('ss',StandardScaler() ),('lr', LinearRegression())])\nn=0\nfor k,(train_index, test_index) in enumerate(kf.split(X,y)):\nprint(\"TRAIN:\", train_index)\nprint(\"TEST:\", test_index)\nX_train, X_test =X.iloc\\[train_index],X.iloc\\[test_index]\n\n```\ny_train, y_test=y[train_index],y[test_index]\npipe.fit(X_train,y_train)\nn=+1\nR_2[k]=pipe.score(X_test, y_test)\n```\n\nR\\_2.mean()\n\n</code>\n</details>\n",
      "metadata": {}
    },
    {
      "cell_type": "markdown",
      "source": "In the Regularization lab, we will learn how to use cross validation to select hyper-parameters.\n",
      "metadata": {}
    },
    {
      "cell_type": "markdown",
      "source": "# Congratulations! - You have completed the lab\n",
      "metadata": {}
    },
    {
      "cell_type": "markdown",
      "source": "## Authors\n",
      "metadata": {}
    },
    {
      "cell_type": "markdown",
      "source": "<a href=\"https://www.linkedin.com/in/joseph-s-50398b136/?utm_medium=Exinfluencer&utm_source=Exinfluencer&utm_content=000026UJ&utm_term=10006555&utm_id=NA-SkillsNetwork-Channel-SkillsNetworkCoursesIBMDeveloperSkillsNetworkML0101ENSkillsNetwork20718538-2021-01-01\" target=\"_blank\">Joseph Santarcangelo</a>\n\n[Svitlana Kramar](https://www.linkedin.com/in/svitlana-kramar?utm_medium=Exinfluencer&utm_source=Exinfluencer&utm_content=000026UJ&utm_term=10006555&utm_id=NA-SkillsNetwork-Channel-SkillsNetworkCoursesIBMML240ENSkillsNetwork34171862-2022-01-01)\n",
      "metadata": {}
    },
    {
      "cell_type": "markdown",
      "source": "## Change Log\n",
      "metadata": {}
    },
    {
      "cell_type": "markdown",
      "source": "| Date (YYYY-MM-DD) | Version | Changed By  | Change Description             |\n| ----------------- | ------- | ----------- | ------------------------------ |\n| 2022-03-25        | 0.1     | Joseph S.   | Updated all content            |\n| 2022-04-26        | 0.1     | Svitlana K. | Corrected minor grammar errors |\n",
      "metadata": {}
    }
  ]
}